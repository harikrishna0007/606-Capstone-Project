{
  "nbformat": 4,
  "nbformat_minor": 0,
  "metadata": {
    "colab": {
      "provenance": [],
      "authorship_tag": "ABX9TyNeTfz6GSdTcMOKDRXjTenD",
      "include_colab_link": true
    },
    "kernelspec": {
      "name": "python3",
      "display_name": "Python 3"
    },
    "language_info": {
      "name": "python"
    }
  },
  "cells": [
    {
      "cell_type": "markdown",
      "metadata": {
        "id": "view-in-github",
        "colab_type": "text"
      },
      "source": [
        "<a href=\"https://colab.research.google.com/github/harikrishna0007/606-Capstone-Project/blob/main/Machine%20Learning%20Models/Machine_Learning_Models.ipynb\" target=\"_parent\"><img src=\"https://colab.research.google.com/assets/colab-badge.svg\" alt=\"Open In Colab\"/></a>"
      ]
    },
    {
      "cell_type": "markdown",
      "source": [
        "#### Import Libraries"
      ],
      "metadata": {
        "id": "56bjs9XekkPv"
      }
    },
    {
      "cell_type": "code",
      "source": [
        "import pandas as pd\n",
        "import numpy as np\n",
        "import matplotlib.pyplot as plt\n",
        "%matplotlib inline\n",
        "import seaborn as sns\n",
        "import re\n",
        "import warnings\n",
        "from collections import Counter\n",
        "warnings.filterwarnings(\"ignore\")\n",
        "from sklearn.model_selection import train_test_split\n",
        "from sklearn.preprocessing import LabelEncoder\n",
        "from sklearn.linear_model import LinearRegression\n",
        "from sklearn.ensemble import RandomForestRegressor\n",
        "from sklearn.metrics import mean_squared_error\n",
        "from sklearn.pipeline import Pipeline\n",
        "from sklearn.compose import ColumnTransformer\n",
        "from sklearn.impute import SimpleImputer\n",
        "from sklearn.preprocessing import StandardScaler, OneHotEncoder\n",
        "from sklearn.metrics import mean_squared_error, r2_score\n",
        "from sklearn.model_selection import GridSearchCV\n",
        "from sklearn import preprocessing\n",
        "from sklearn.model_selection import RandomizedSearchCV\n",
        "from pprint import pprint\n",
        "from sklearn.ensemble import GradientBoostingRegressor\n",
        "import math"
      ],
      "metadata": {
        "id": "FxngSrhglz2P"
      },
      "execution_count": 1,
      "outputs": []
    },
    {
      "cell_type": "code",
      "source": [
        "df=pd.read_csv('/content/eda_dataset.csv')\n",
        "df.head(5)"
      ],
      "metadata": {
        "colab": {
          "base_uri": "https://localhost:8080/",
          "height": 391
        },
        "id": "dnTQo6VLjeJw",
        "outputId": "15f537a3-88e8-433d-9065-124711248961"
      },
      "execution_count": 2,
      "outputs": [
        {
          "output_type": "execute_result",
          "data": {
            "text/plain": [
              "                  VIN          brand           model  \\\n",
              "0   W1KWF8DB9MR612417  Mercedes-Benz         C-Class   \n",
              "1   1C4RJFJM9EC395245           Jeep  Grand Cherokee   \n",
              "2   JTEZU4BF5EK013919         Toyota      FJ Cruiser   \n",
              "3   1G1ZD5ST0LF122383      Chevrolet          Malibu   \n",
              "4   1FTFW1E56JFB74611           Ford           F-150   \n",
              "\n",
              "                            trim  manufacture_year  mileage transmission  \\\n",
              "0                C 300 Sedan RWD              2021    13121    Automatic   \n",
              "1                     Summit 4WD              2014   103404    Automatic   \n",
              "2                  RWD Automatic              2014    80830    Automatic   \n",
              "3                             LT              2020    45480    Automatic   \n",
              "4  Lariat SuperCrew 5.5' Box 4WD              2018   129900    Automatic   \n",
              "\n",
              "  drive_type fuel_type exterior_color interior_color  accidents  owners  \\\n",
              "0        RWD       Gas         Silver           Gray          0       3   \n",
              "1        4WD    Diesel           Gray          Black          0       4   \n",
              "2        RWD       Gas          White          Black          0       1   \n",
              "3        FWD       Gas          White          Black          0       1   \n",
              "4        4WD       Gas          White           Gray          0       2   \n",
              "\n",
              "  car_usage_type  price  car_age state   MPG  \n",
              "0    Personaluse  41999        1    ID  29.0  \n",
              "1    Personaluse  18299        8    NJ  20.5  \n",
              "2    Personaluse  32495        8    FL  18.0  \n",
              "3    Personaluse  19994        2    CA  32.5  \n",
              "4    Personaluse  27831        4    ID  21.5  "
            ],
            "text/html": [
              "\n",
              "  <div id=\"df-8e27b07c-db28-4aca-a1e7-4356542266dc\">\n",
              "    <div class=\"colab-df-container\">\n",
              "      <div>\n",
              "<style scoped>\n",
              "    .dataframe tbody tr th:only-of-type {\n",
              "        vertical-align: middle;\n",
              "    }\n",
              "\n",
              "    .dataframe tbody tr th {\n",
              "        vertical-align: top;\n",
              "    }\n",
              "\n",
              "    .dataframe thead th {\n",
              "        text-align: right;\n",
              "    }\n",
              "</style>\n",
              "<table border=\"1\" class=\"dataframe\">\n",
              "  <thead>\n",
              "    <tr style=\"text-align: right;\">\n",
              "      <th></th>\n",
              "      <th>VIN</th>\n",
              "      <th>brand</th>\n",
              "      <th>model</th>\n",
              "      <th>trim</th>\n",
              "      <th>manufacture_year</th>\n",
              "      <th>mileage</th>\n",
              "      <th>transmission</th>\n",
              "      <th>drive_type</th>\n",
              "      <th>fuel_type</th>\n",
              "      <th>exterior_color</th>\n",
              "      <th>interior_color</th>\n",
              "      <th>accidents</th>\n",
              "      <th>owners</th>\n",
              "      <th>car_usage_type</th>\n",
              "      <th>price</th>\n",
              "      <th>car_age</th>\n",
              "      <th>state</th>\n",
              "      <th>MPG</th>\n",
              "    </tr>\n",
              "  </thead>\n",
              "  <tbody>\n",
              "    <tr>\n",
              "      <th>0</th>\n",
              "      <td>W1KWF8DB9MR612417</td>\n",
              "      <td>Mercedes-Benz</td>\n",
              "      <td>C-Class</td>\n",
              "      <td>C 300 Sedan RWD</td>\n",
              "      <td>2021</td>\n",
              "      <td>13121</td>\n",
              "      <td>Automatic</td>\n",
              "      <td>RWD</td>\n",
              "      <td>Gas</td>\n",
              "      <td>Silver</td>\n",
              "      <td>Gray</td>\n",
              "      <td>0</td>\n",
              "      <td>3</td>\n",
              "      <td>Personaluse</td>\n",
              "      <td>41999</td>\n",
              "      <td>1</td>\n",
              "      <td>ID</td>\n",
              "      <td>29.0</td>\n",
              "    </tr>\n",
              "    <tr>\n",
              "      <th>1</th>\n",
              "      <td>1C4RJFJM9EC395245</td>\n",
              "      <td>Jeep</td>\n",
              "      <td>Grand Cherokee</td>\n",
              "      <td>Summit 4WD</td>\n",
              "      <td>2014</td>\n",
              "      <td>103404</td>\n",
              "      <td>Automatic</td>\n",
              "      <td>4WD</td>\n",
              "      <td>Diesel</td>\n",
              "      <td>Gray</td>\n",
              "      <td>Black</td>\n",
              "      <td>0</td>\n",
              "      <td>4</td>\n",
              "      <td>Personaluse</td>\n",
              "      <td>18299</td>\n",
              "      <td>8</td>\n",
              "      <td>NJ</td>\n",
              "      <td>20.5</td>\n",
              "    </tr>\n",
              "    <tr>\n",
              "      <th>2</th>\n",
              "      <td>JTEZU4BF5EK013919</td>\n",
              "      <td>Toyota</td>\n",
              "      <td>FJ Cruiser</td>\n",
              "      <td>RWD Automatic</td>\n",
              "      <td>2014</td>\n",
              "      <td>80830</td>\n",
              "      <td>Automatic</td>\n",
              "      <td>RWD</td>\n",
              "      <td>Gas</td>\n",
              "      <td>White</td>\n",
              "      <td>Black</td>\n",
              "      <td>0</td>\n",
              "      <td>1</td>\n",
              "      <td>Personaluse</td>\n",
              "      <td>32495</td>\n",
              "      <td>8</td>\n",
              "      <td>FL</td>\n",
              "      <td>18.0</td>\n",
              "    </tr>\n",
              "    <tr>\n",
              "      <th>3</th>\n",
              "      <td>1G1ZD5ST0LF122383</td>\n",
              "      <td>Chevrolet</td>\n",
              "      <td>Malibu</td>\n",
              "      <td>LT</td>\n",
              "      <td>2020</td>\n",
              "      <td>45480</td>\n",
              "      <td>Automatic</td>\n",
              "      <td>FWD</td>\n",
              "      <td>Gas</td>\n",
              "      <td>White</td>\n",
              "      <td>Black</td>\n",
              "      <td>0</td>\n",
              "      <td>1</td>\n",
              "      <td>Personaluse</td>\n",
              "      <td>19994</td>\n",
              "      <td>2</td>\n",
              "      <td>CA</td>\n",
              "      <td>32.5</td>\n",
              "    </tr>\n",
              "    <tr>\n",
              "      <th>4</th>\n",
              "      <td>1FTFW1E56JFB74611</td>\n",
              "      <td>Ford</td>\n",
              "      <td>F-150</td>\n",
              "      <td>Lariat SuperCrew 5.5' Box 4WD</td>\n",
              "      <td>2018</td>\n",
              "      <td>129900</td>\n",
              "      <td>Automatic</td>\n",
              "      <td>4WD</td>\n",
              "      <td>Gas</td>\n",
              "      <td>White</td>\n",
              "      <td>Gray</td>\n",
              "      <td>0</td>\n",
              "      <td>2</td>\n",
              "      <td>Personaluse</td>\n",
              "      <td>27831</td>\n",
              "      <td>4</td>\n",
              "      <td>ID</td>\n",
              "      <td>21.5</td>\n",
              "    </tr>\n",
              "  </tbody>\n",
              "</table>\n",
              "</div>\n",
              "      <button class=\"colab-df-convert\" onclick=\"convertToInteractive('df-8e27b07c-db28-4aca-a1e7-4356542266dc')\"\n",
              "              title=\"Convert this dataframe to an interactive table.\"\n",
              "              style=\"display:none;\">\n",
              "        \n",
              "  <svg xmlns=\"http://www.w3.org/2000/svg\" height=\"24px\"viewBox=\"0 0 24 24\"\n",
              "       width=\"24px\">\n",
              "    <path d=\"M0 0h24v24H0V0z\" fill=\"none\"/>\n",
              "    <path d=\"M18.56 5.44l.94 2.06.94-2.06 2.06-.94-2.06-.94-.94-2.06-.94 2.06-2.06.94zm-11 1L8.5 8.5l.94-2.06 2.06-.94-2.06-.94L8.5 2.5l-.94 2.06-2.06.94zm10 10l.94 2.06.94-2.06 2.06-.94-2.06-.94-.94-2.06-.94 2.06-2.06.94z\"/><path d=\"M17.41 7.96l-1.37-1.37c-.4-.4-.92-.59-1.43-.59-.52 0-1.04.2-1.43.59L10.3 9.45l-7.72 7.72c-.78.78-.78 2.05 0 2.83L4 21.41c.39.39.9.59 1.41.59.51 0 1.02-.2 1.41-.59l7.78-7.78 2.81-2.81c.8-.78.8-2.07 0-2.86zM5.41 20L4 18.59l7.72-7.72 1.47 1.35L5.41 20z\"/>\n",
              "  </svg>\n",
              "      </button>\n",
              "      \n",
              "  <style>\n",
              "    .colab-df-container {\n",
              "      display:flex;\n",
              "      flex-wrap:wrap;\n",
              "      gap: 12px;\n",
              "    }\n",
              "\n",
              "    .colab-df-convert {\n",
              "      background-color: #E8F0FE;\n",
              "      border: none;\n",
              "      border-radius: 50%;\n",
              "      cursor: pointer;\n",
              "      display: none;\n",
              "      fill: #1967D2;\n",
              "      height: 32px;\n",
              "      padding: 0 0 0 0;\n",
              "      width: 32px;\n",
              "    }\n",
              "\n",
              "    .colab-df-convert:hover {\n",
              "      background-color: #E2EBFA;\n",
              "      box-shadow: 0px 1px 2px rgba(60, 64, 67, 0.3), 0px 1px 3px 1px rgba(60, 64, 67, 0.15);\n",
              "      fill: #174EA6;\n",
              "    }\n",
              "\n",
              "    [theme=dark] .colab-df-convert {\n",
              "      background-color: #3B4455;\n",
              "      fill: #D2E3FC;\n",
              "    }\n",
              "\n",
              "    [theme=dark] .colab-df-convert:hover {\n",
              "      background-color: #434B5C;\n",
              "      box-shadow: 0px 1px 3px 1px rgba(0, 0, 0, 0.15);\n",
              "      filter: drop-shadow(0px 1px 2px rgba(0, 0, 0, 0.3));\n",
              "      fill: #FFFFFF;\n",
              "    }\n",
              "  </style>\n",
              "\n",
              "      <script>\n",
              "        const buttonEl =\n",
              "          document.querySelector('#df-8e27b07c-db28-4aca-a1e7-4356542266dc button.colab-df-convert');\n",
              "        buttonEl.style.display =\n",
              "          google.colab.kernel.accessAllowed ? 'block' : 'none';\n",
              "\n",
              "        async function convertToInteractive(key) {\n",
              "          const element = document.querySelector('#df-8e27b07c-db28-4aca-a1e7-4356542266dc');\n",
              "          const dataTable =\n",
              "            await google.colab.kernel.invokeFunction('convertToInteractive',\n",
              "                                                     [key], {});\n",
              "          if (!dataTable) return;\n",
              "\n",
              "          const docLinkHtml = 'Like what you see? Visit the ' +\n",
              "            '<a target=\"_blank\" href=https://colab.research.google.com/notebooks/data_table.ipynb>data table notebook</a>'\n",
              "            + ' to learn more about interactive tables.';\n",
              "          element.innerHTML = '';\n",
              "          dataTable['output_type'] = 'display_data';\n",
              "          await google.colab.output.renderOutput(dataTable, element);\n",
              "          const docLink = document.createElement('div');\n",
              "          docLink.innerHTML = docLinkHtml;\n",
              "          element.appendChild(docLink);\n",
              "        }\n",
              "      </script>\n",
              "    </div>\n",
              "  </div>\n",
              "  "
            ]
          },
          "metadata": {},
          "execution_count": 2
        }
      ]
    },
    {
      "cell_type": "code",
      "source": [
        "pd.set_option('display.max_columns', None)\n",
        "pd.set_option('display.max_rows', None)"
      ],
      "metadata": {
        "id": "7NrXzUc4nIPb"
      },
      "execution_count": 3,
      "outputs": []
    },
    {
      "cell_type": "code",
      "source": [
        "df=df.drop(['VIN'],axis=1)"
      ],
      "metadata": {
        "id": "BPgz1XCwoNuh"
      },
      "execution_count": 4,
      "outputs": []
    },
    {
      "cell_type": "markdown",
      "source": [
        "##Finding feature importance to determine necessary features"
      ],
      "metadata": {
        "id": "iw8fpgwpFKVR"
      }
    },
    {
      "cell_type": "code",
      "source": [
        "## Deleting manufacture year because we already have a similar column called car age\n",
        "df=df.drop(['trim','manufacture_year'],axis=1)"
      ],
      "metadata": {
        "id": "leaJu_X-oTqp"
      },
      "execution_count": 5,
      "outputs": []
    },
    {
      "cell_type": "code",
      "source": [
        "# Because of the skewness of mileage\n",
        "plt.hist((df[\"mileage\"]))"
      ],
      "metadata": {
        "colab": {
          "base_uri": "https://localhost:8080/",
          "height": 534
        },
        "id": "I-mc2rJvoU9w",
        "outputId": "ebf4302e-2e6c-4154-9dbc-e9fc5ddaf7c3"
      },
      "execution_count": 6,
      "outputs": [
        {
          "output_type": "execute_result",
          "data": {
            "text/plain": [
              "(array([2332., 3677., 1836., 1179.,  495.,  218.,   66.,   32.,    6.,\n",
              "           4.]),\n",
              " array([5.000000e+00, 3.416750e+04, 6.833000e+04, 1.024925e+05,\n",
              "        1.366550e+05, 1.708175e+05, 2.049800e+05, 2.391425e+05,\n",
              "        2.733050e+05, 3.074675e+05, 3.416300e+05]),\n",
              " <BarContainer object of 10 artists>)"
            ]
          },
          "metadata": {},
          "execution_count": 6
        },
        {
          "output_type": "display_data",
          "data": {
            "text/plain": [
              "<Figure size 640x480 with 1 Axes>"
            ],
            "image/png": "[encoded data removed]"
          },
          "metadata": {}
        }
      ]
    },
    {
      "cell_type": "code",
      "source": [
        "plt.hist(np.log(df['mileage']))"
      ],
      "metadata": {
        "colab": {
          "base_uri": "https://localhost:8080/",
          "height": 534
        },
        "id": "sO9y6wJOpmAB",
        "outputId": "6c16a896-abd3-452d-8af1-feb76bac880c"
      },
      "execution_count": 7,
      "outputs": [
        {
          "output_type": "execute_result",
          "data": {
            "text/plain": [
              "(array([1.000e+00, 3.000e+00, 1.000e+00, 2.000e+00, 1.100e+01, 4.400e+01,\n",
              "        2.720e+02, 2.281e+03, 5.662e+03, 1.568e+03]),\n",
              " array([ 1.60943791,  2.72264248,  3.83584704,  4.94905161,  6.06225617,\n",
              "         7.17546074,  8.2886653 ,  9.40186987, 10.51507443, 11.62827899,\n",
              "        12.74148356]),\n",
              " <BarContainer object of 10 artists>)"
            ]
          },
          "metadata": {},
          "execution_count": 7
        },
        {
          "output_type": "display_data",
          "data": {
            "text/plain": [
              "<Figure size 640x480 with 1 Axes>"
            ],
            "image/png": "[encoded data removed]"
          },
          "metadata": {}
        }
      ]
    },
    {
      "cell_type": "markdown",
      "source": [
        "##Does not normal distribution in any way so we continue with mileage column only"
      ],
      "metadata": {
        "id": "PyzTjTboFX6B"
      }
    },
    {
      "cell_type": "code",
      "source": [
        "df.info()"
      ],
      "metadata": {
        "id": "NLb7Cjy1qIgU",
        "outputId": "0008424a-28e5-46e0-f5f8-1cbea17aeff7",
        "colab": {
          "base_uri": "https://localhost:8080/"
        }
      },
      "execution_count": 8,
      "outputs": [
        {
          "output_type": "stream",
          "name": "stdout",
          "text": [
            "<class 'pandas.core.frame.DataFrame'>\n",
            "RangeIndex: 9845 entries, 0 to 9844\n",
            "Data columns (total 15 columns):\n",
            " #   Column          Non-Null Count  Dtype  \n",
            "---  ------          --------------  -----  \n",
            " 0   brand           9845 non-null   object \n",
            " 1   model           9845 non-null   object \n",
            " 2   mileage         9845 non-null   int64  \n",
            " 3   transmission    9845 non-null   object \n",
            " 4   drive_type      9845 non-null   object \n",
            " 5   fuel_type       9845 non-null   object \n",
            " 6   exterior_color  9845 non-null   object \n",
            " 7   interior_color  9845 non-null   object \n",
            " 8   accidents       9845 non-null   int64  \n",
            " 9   owners          9845 non-null   int64  \n",
            " 10  car_usage_type  9845 non-null   object \n",
            " 11  price           9845 non-null   int64  \n",
            " 12  car_age         9845 non-null   int64  \n",
            " 13  state           9845 non-null   object \n",
            " 14  MPG             9845 non-null   float64\n",
            "dtypes: float64(1), int64(5), object(9)\n",
            "memory usage: 1.1+ MB\n"
          ]
        }
      ]
    },
    {
      "cell_type": "markdown",
      "source": [
        "##Feature Selection"
      ],
      "metadata": {
        "id": "V8cOWYb5FcTT"
      }
    },
    {
      "cell_type": "code",
      "source": [
        "from sklearn.feature_selection import SelectKBest, mutual_info_regression"
      ],
      "metadata": {
        "id": "Mp603J7DqJs2"
      },
      "execution_count": 9,
      "outputs": []
    },
    {
      "cell_type": "code",
      "source": [
        "from sklearn.preprocessing import LabelEncoder\n",
        "temp_data = df.copy()\n",
        "for col in temp_data.columns:\n",
        "    if temp_data[col].dtypes == 'object':\n",
        "        encoder = LabelEncoder()\n",
        "        temp_data[col] = encoder.fit_transform(temp_data[col])"
      ],
      "metadata": {
        "id": "PQiPN6S6FgBS"
      },
      "execution_count": 10,
      "outputs": []
    },
    {
      "cell_type": "code",
      "source": [
        "# X_temp = temp_data.drop(['price','mileage'], axis=1)\n",
        "X_temp = temp_data.drop(['price'], axis=1)\n",
        "y_temp = np.log(temp_data['price'].values)"
      ],
      "metadata": {
        "id": "scnrEjyMFjzv"
      },
      "execution_count": 11,
      "outputs": []
    },
    {
      "cell_type": "code",
      "source": [
        "# selecting top 8 features\n",
        "selector = SelectKBest(mutual_info_regression, k=10)\n",
        "selector.fit(X_temp,y_temp)\n",
        "X_temp.columns[selector.get_support()]"
      ],
      "metadata": {
        "colab": {
          "base_uri": "https://localhost:8080/"
        },
        "id": "R_fVXcUsFmMV",
        "outputId": "6aeb55eb-e732-4dee-ee03-5e5ffc884872"
      },
      "execution_count": 12,
      "outputs": [
        {
          "output_type": "execute_result",
          "data": {
            "text/plain": [
              "Index(['brand', 'model', 'mileage', 'drive_type', 'interior_color',\n",
              "       'accidents', 'owners', 'car_age', 'state', 'MPG'],\n",
              "      dtype='object')"
            ]
          },
          "metadata": {},
          "execution_count": 12
        }
      ]
    },
    {
      "cell_type": "code",
      "source": [
        "df=df.drop(['car_usage_type','interior_color','exterior_color','state','transmission','MPG'],axis=1)"
      ],
      "metadata": {
        "id": "jC8nudHaFrdl"
      },
      "execution_count": 13,
      "outputs": []
    },
    {
      "cell_type": "code",
      "source": [
        "df.info()"
      ],
      "metadata": {
        "colab": {
          "base_uri": "https://localhost:8080/"
        },
        "id": "yOmQDvnYFuOJ",
        "outputId": "b64b326a-bc96-4d89-c0e7-23c0f9cf00b9"
      },
      "execution_count": 14,
      "outputs": [
        {
          "output_type": "stream",
          "name": "stdout",
          "text": [
            "<class 'pandas.core.frame.DataFrame'>\n",
            "RangeIndex: 9845 entries, 0 to 9844\n",
            "Data columns (total 9 columns):\n",
            " #   Column      Non-Null Count  Dtype \n",
            "---  ------      --------------  ----- \n",
            " 0   brand       9845 non-null   object\n",
            " 1   model       9845 non-null   object\n",
            " 2   mileage     9845 non-null   int64 \n",
            " 3   drive_type  9845 non-null   object\n",
            " 4   fuel_type   9845 non-null   object\n",
            " 5   accidents   9845 non-null   int64 \n",
            " 6   owners      9845 non-null   int64 \n",
            " 7   price       9845 non-null   int64 \n",
            " 8   car_age     9845 non-null   int64 \n",
            "dtypes: int64(5), object(4)\n",
            "memory usage: 692.4+ KB\n"
          ]
        }
      ]
    },
    {
      "cell_type": "markdown",
      "source": [
        "##Predictive Analysis"
      ],
      "metadata": {
        "id": "HMzprwpSF2SD"
      }
    },
    {
      "cell_type": "code",
      "source": [
        "num_feat = df.drop(['price'], axis=1).select_dtypes(include=np.number).columns\n",
        "cat_feat = df.drop('price', axis=1).select_dtypes(include=['object']).columns"
      ],
      "metadata": {
        "id": "m5pAzghzF0BY"
      },
      "execution_count": 15,
      "outputs": []
    },
    {
      "cell_type": "code",
      "source": [
        "X = df.drop(['price'], axis=1)\n",
        "y = np.log(df['price'].values)\n",
        "X_train, X_test, y_train, y_test = train_test_split(X, y, test_size=0.2)"
      ],
      "metadata": {
        "id": "USypZ0SzF7LO"
      },
      "execution_count": 16,
      "outputs": []
    },
    {
      "cell_type": "code",
      "source": [
        "X.head()"
      ],
      "metadata": {
        "colab": {
          "base_uri": "https://localhost:8080/",
          "height": 206
        },
        "id": "2puMsPdnF8RX",
        "outputId": "ff3db8ef-cf51-439f-b817-f8e914a254af"
      },
      "execution_count": 17,
      "outputs": [
        {
          "output_type": "execute_result",
          "data": {
            "text/plain": [
              "           brand           model  mileage drive_type fuel_type  accidents  \\\n",
              "0  Mercedes-Benz         C-Class    13121        RWD       Gas          0   \n",
              "1           Jeep  Grand Cherokee   103404        4WD    Diesel          0   \n",
              "2         Toyota      FJ Cruiser    80830        RWD       Gas          0   \n",
              "3      Chevrolet          Malibu    45480        FWD       Gas          0   \n",
              "4           Ford           F-150   129900        4WD       Gas          0   \n",
              "\n",
              "   owners  car_age  \n",
              "0       3        1  \n",
              "1       4        8  \n",
              "2       1        8  \n",
              "3       1        2  \n",
              "4       2        4  "
            ],
            "text/html": [
              "\n",
              "  <div id=\"df-eb626b9f-b891-44b9-b56e-a0dca40ad574\">\n",
              "    <div class=\"colab-df-container\">\n",
              "      <div>\n",
              "<style scoped>\n",
              "    .dataframe tbody tr th:only-of-type {\n",
              "        vertical-align: middle;\n",
              "    }\n",
              "\n",
              "    .dataframe tbody tr th {\n",
              "        vertical-align: top;\n",
              "    }\n",
              "\n",
              "    .dataframe thead th {\n",
              "        text-align: right;\n",
              "    }\n",
              "</style>\n",
              "<table border=\"1\" class=\"dataframe\">\n",
              "  <thead>\n",
              "    <tr style=\"text-align: right;\">\n",
              "      <th></th>\n",
              "      <th>brand</th>\n",
              "      <th>model</th>\n",
              "      <th>mileage</th>\n",
              "      <th>drive_type</th>\n",
              "      <th>fuel_type</th>\n",
              "      <th>accidents</th>\n",
              "      <th>owners</th>\n",
              "      <th>car_age</th>\n",
              "    </tr>\n",
              "  </thead>\n",
              "  <tbody>\n",
              "    <tr>\n",
              "      <th>0</th>\n",
              "      <td>Mercedes-Benz</td>\n",
              "      <td>C-Class</td>\n",
              "      <td>13121</td>\n",
              "      <td>RWD</td>\n",
              "      <td>Gas</td>\n",
              "      <td>0</td>\n",
              "      <td>3</td>\n",
              "      <td>1</td>\n",
              "    </tr>\n",
              "    <tr>\n",
              "      <th>1</th>\n",
              "      <td>Jeep</td>\n",
              "      <td>Grand Cherokee</td>\n",
              "      <td>103404</td>\n",
              "      <td>4WD</td>\n",
              "      <td>Diesel</td>\n",
              "      <td>0</td>\n",
              "      <td>4</td>\n",
              "      <td>8</td>\n",
              "    </tr>\n",
              "    <tr>\n",
              "      <th>2</th>\n",
              "      <td>Toyota</td>\n",
              "      <td>FJ Cruiser</td>\n",
              "      <td>80830</td>\n",
              "      <td>RWD</td>\n",
              "      <td>Gas</td>\n",
              "      <td>0</td>\n",
              "      <td>1</td>\n",
              "      <td>8</td>\n",
              "    </tr>\n",
              "    <tr>\n",
              "      <th>3</th>\n",
              "      <td>Chevrolet</td>\n",
              "      <td>Malibu</td>\n",
              "      <td>45480</td>\n",
              "      <td>FWD</td>\n",
              "      <td>Gas</td>\n",
              "      <td>0</td>\n",
              "      <td>1</td>\n",
              "      <td>2</td>\n",
              "    </tr>\n",
              "    <tr>\n",
              "      <th>4</th>\n",
              "      <td>Ford</td>\n",
              "      <td>F-150</td>\n",
              "      <td>129900</td>\n",
              "      <td>4WD</td>\n",
              "      <td>Gas</td>\n",
              "      <td>0</td>\n",
              "      <td>2</td>\n",
              "      <td>4</td>\n",
              "    </tr>\n",
              "  </tbody>\n",
              "</table>\n",
              "</div>\n",
              "      <button class=\"colab-df-convert\" onclick=\"convertToInteractive('df-eb626b9f-b891-44b9-b56e-a0dca40ad574')\"\n",
              "              title=\"Convert this dataframe to an interactive table.\"\n",
              "              style=\"display:none;\">\n",
              "        \n",
              "  <svg xmlns=\"http://www.w3.org/2000/svg\" height=\"24px\"viewBox=\"0 0 24 24\"\n",
              "       width=\"24px\">\n",
              "    <path d=\"M0 0h24v24H0V0z\" fill=\"none\"/>\n",
              "    <path d=\"M18.56 5.44l.94 2.06.94-2.06 2.06-.94-2.06-.94-.94-2.06-.94 2.06-2.06.94zm-11 1L8.5 8.5l.94-2.06 2.06-.94-2.06-.94L8.5 2.5l-.94 2.06-2.06.94zm10 10l.94 2.06.94-2.06 2.06-.94-2.06-.94-.94-2.06-.94 2.06-2.06.94z\"/><path d=\"M17.41 7.96l-1.37-1.37c-.4-.4-.92-.59-1.43-.59-.52 0-1.04.2-1.43.59L10.3 9.45l-7.72 7.72c-.78.78-.78 2.05 0 2.83L4 21.41c.39.39.9.59 1.41.59.51 0 1.02-.2 1.41-.59l7.78-7.78 2.81-2.81c.8-.78.8-2.07 0-2.86zM5.41 20L4 18.59l7.72-7.72 1.47 1.35L5.41 20z\"/>\n",
              "  </svg>\n",
              "      </button>\n",
              "      \n",
              "  <style>\n",
              "    .colab-df-container {\n",
              "      display:flex;\n",
              "      flex-wrap:wrap;\n",
              "      gap: 12px;\n",
              "    }\n",
              "\n",
              "    .colab-df-convert {\n",
              "      background-color: #E8F0FE;\n",
              "      border: none;\n",
              "      border-radius: 50%;\n",
              "      cursor: pointer;\n",
              "      display: none;\n",
              "      fill: #1967D2;\n",
              "      height: 32px;\n",
              "      padding: 0 0 0 0;\n",
              "      width: 32px;\n",
              "    }\n",
              "\n",
              "    .colab-df-convert:hover {\n",
              "      background-color: #E2EBFA;\n",
              "      box-shadow: 0px 1px 2px rgba(60, 64, 67, 0.3), 0px 1px 3px 1px rgba(60, 64, 67, 0.15);\n",
              "      fill: #174EA6;\n",
              "    }\n",
              "\n",
              "    [theme=dark] .colab-df-convert {\n",
              "      background-color: #3B4455;\n",
              "      fill: #D2E3FC;\n",
              "    }\n",
              "\n",
              "    [theme=dark] .colab-df-convert:hover {\n",
              "      background-color: #434B5C;\n",
              "      box-shadow: 0px 1px 3px 1px rgba(0, 0, 0, 0.15);\n",
              "      filter: drop-shadow(0px 1px 2px rgba(0, 0, 0, 0.3));\n",
              "      fill: #FFFFFF;\n",
              "    }\n",
              "  </style>\n",
              "\n",
              "      <script>\n",
              "        const buttonEl =\n",
              "          document.querySelector('#df-eb626b9f-b891-44b9-b56e-a0dca40ad574 button.colab-df-convert');\n",
              "        buttonEl.style.display =\n",
              "          google.colab.kernel.accessAllowed ? 'block' : 'none';\n",
              "\n",
              "        async function convertToInteractive(key) {\n",
              "          const element = document.querySelector('#df-eb626b9f-b891-44b9-b56e-a0dca40ad574');\n",
              "          const dataTable =\n",
              "            await google.colab.kernel.invokeFunction('convertToInteractive',\n",
              "                                                     [key], {});\n",
              "          if (!dataTable) return;\n",
              "\n",
              "          const docLinkHtml = 'Like what you see? Visit the ' +\n",
              "            '<a target=\"_blank\" href=https://colab.research.google.com/notebooks/data_table.ipynb>data table notebook</a>'\n",
              "            + ' to learn more about interactive tables.';\n",
              "          element.innerHTML = '';\n",
              "          dataTable['output_type'] = 'display_data';\n",
              "          await google.colab.output.renderOutput(dataTable, element);\n",
              "          const docLink = document.createElement('div');\n",
              "          docLink.innerHTML = docLinkHtml;\n",
              "          element.appendChild(docLink);\n",
              "        }\n",
              "      </script>\n",
              "    </div>\n",
              "  </div>\n",
              "  "
            ]
          },
          "metadata": {},
          "execution_count": 17
        }
      ]
    },
    {
      "cell_type": "markdown",
      "source": [
        "##PIPELINE"
      ],
      "metadata": {
        "id": "viQn-rjJGBjp"
      }
    },
    {
      "cell_type": "code",
      "source": [
        "numeric_transformer = Pipeline(steps=[\n",
        "    ('scaler', StandardScaler()) ])\n",
        "\n",
        "categorical_transformer = Pipeline(steps=[\n",
        "    ('one_hot', OneHotEncoder(handle_unknown='ignore'))])\n",
        "\n",
        "preprocessor = ColumnTransformer(\n",
        "    transformers=[\n",
        "        ('num', numeric_transformer, num_feat),\n",
        "        ('cat', categorical_transformer, cat_feat)\n",
        "    ])"
      ],
      "metadata": {
        "id": "G5Mat7MfF-2R"
      },
      "execution_count": 18,
      "outputs": []
    },
    {
      "cell_type": "markdown",
      "source": [
        "##Linear Regression"
      ],
      "metadata": {
        "id": "3rPe7GM-GGal"
      }
    },
    {
      "cell_type": "code",
      "source": [
        "pipe = Pipeline(steps=[\n",
        "    ('preprocessor', preprocessor),\n",
        "    ('classifier',  LinearRegression())\n",
        "])\n",
        "\n",
        "model_lin = pipe.fit(X_train, y_train)\n",
        "y_pred_train = model_lin.predict(X_train)\n",
        "y_pred_test = model_lin.predict(X_test)\n",
        "\n",
        "model_lin.score(X_test, y_test)"
      ],
      "metadata": {
        "colab": {
          "base_uri": "https://localhost:8080/"
        },
        "id": "oTIK-C6SGEox",
        "outputId": "780ab60d-4670-4f68-f9c8-63dc12a824ad"
      },
      "execution_count": 19,
      "outputs": [
        {
          "output_type": "execute_result",
          "data": {
            "text/plain": [
              "0.9196122656673518"
            ]
          },
          "metadata": {},
          "execution_count": 19
        }
      ]
    },
    {
      "cell_type": "code",
      "source": [
        "model_lin.score(X_train,y_train)"
      ],
      "metadata": {
        "colab": {
          "base_uri": "https://localhost:8080/"
        },
        "id": "-b6RYAODGLYS",
        "outputId": "5ee2af7f-1984-4363-f89a-c6fbc7a3c174"
      },
      "execution_count": 20,
      "outputs": [
        {
          "output_type": "execute_result",
          "data": {
            "text/plain": [
              "0.937605216402708"
            ]
          },
          "metadata": {},
          "execution_count": 20
        }
      ]
    },
    {
      "cell_type": "code",
      "source": [
        "pipe"
      ],
      "metadata": {
        "colab": {
          "base_uri": "https://localhost:8080/",
          "height": 188
        },
        "id": "5ESto7VnGOR9",
        "outputId": "dd8d753f-0896-4517-d883-df3e4ce29b65"
      },
      "execution_count": 21,
      "outputs": [
        {
          "output_type": "execute_result",
          "data": {
            "text/plain": [
              "Pipeline(steps=[('preprocessor',\n",
              "                 ColumnTransformer(transformers=[('num',\n",
              "                                                  Pipeline(steps=[('scaler',\n",
              "                                                                   StandardScaler())]),\n",
              "                                                  Index(['mileage', 'accidents', 'owners', 'car_age'], dtype='object')),\n",
              "                                                 ('cat',\n",
              "                                                  Pipeline(steps=[('one_hot',\n",
              "                                                                   OneHotEncoder(handle_unknown='ignore'))]),\n",
              "                                                  Index(['brand', 'model', 'drive_type', 'fuel_type'], dtype='object'))])),\n",
              "                ('classifier', LinearRegression())])"
            ],
            "text/html": [
              "<style>#sk-container-id-1 {color: black;background-color: white;}#sk-container-id-1 pre{padding: 0;}#sk-container-id-1 div.sk-toggleable {background-color: white;}#sk-container-id-1 label.sk-toggleable__label {cursor: pointer;display: block;width: 100%;margin-bottom: 0;padding: 0.3em;box-sizing: border-box;text-align: center;}#sk-container-id-1 label.sk-toggleable__label-arrow:before {content: \"▸\";float: left;margin-right: 0.25em;color: #696969;}#sk-container-id-1 label.sk-toggleable__label-arrow:hover:before {color: black;}#sk-container-id-1 div.sk-estimator:hover label.sk-toggleable__label-arrow:before {color: black;}#sk-container-id-1 div.sk-toggleable__content {max-height: 0;max-width: 0;overflow: hidden;text-align: left;background-color: #f0f8ff;}#sk-container-id-1 div.sk-toggleable__content pre {margin: 0.2em;color: black;border-radius: 0.25em;background-color: #f0f8ff;}#sk-container-id-1 input.sk-toggleable__control:checked~div.sk-toggleable__content {max-height: 200px;max-width: 100%;overflow: auto;}#sk-container-id-1 input.sk-toggleable__control:checked~label.sk-toggleable__label-arrow:before {content: \"▾\";}#sk-container-id-1 div.sk-estimator input.sk-toggleable__control:checked~label.sk-toggleable__label {background-color: #d4ebff;}#sk-container-id-1 div.sk-label input.sk-toggleable__control:checked~label.sk-toggleable__label {background-color: #d4ebff;}#sk-container-id-1 input.sk-hidden--visually {border: 0;clip: rect(1px 1px 1px 1px);clip: rect(1px, 1px, 1px, 1px);height: 1px;margin: -1px;overflow: hidden;padding: 0;position: absolute;width: 1px;}#sk-container-id-1 div.sk-estimator {font-family: monospace;background-color: #f0f8ff;border: 1px dotted black;border-radius: 0.25em;box-sizing: border-box;margin-bottom: 0.5em;}#sk-container-id-1 div.sk-estimator:hover {background-color: #d4ebff;}#sk-container-id-1 div.sk-parallel-item::after {content: \"\";width: 100%;border-bottom: 1px solid gray;flex-grow: 1;}#sk-container-id-1 div.sk-label:hover label.sk-toggleable__label {background-color: #d4ebff;}#sk-container-id-1 div.sk-serial::before {content: \"\";position: absolute;border-left: 1px solid gray;box-sizing: border-box;top: 0;bottom: 0;left: 50%;z-index: 0;}#sk-container-id-1 div.sk-serial {display: flex;flex-direction: column;align-items: center;background-color: white;padding-right: 0.2em;padding-left: 0.2em;position: relative;}#sk-container-id-1 div.sk-item {position: relative;z-index: 1;}#sk-container-id-1 div.sk-parallel {display: flex;align-items: stretch;justify-content: center;background-color: white;position: relative;}#sk-container-id-1 div.sk-item::before, #sk-container-id-1 div.sk-parallel-item::before {content: \"\";position: absolute;border-left: 1px solid gray;box-sizing: border-box;top: 0;bottom: 0;left: 50%;z-index: -1;}#sk-container-id-1 div.sk-parallel-item {display: flex;flex-direction: column;z-index: 1;position: relative;background-color: white;}#sk-container-id-1 div.sk-parallel-item:first-child::after {align-self: flex-end;width: 50%;}#sk-container-id-1 div.sk-parallel-item:last-child::after {align-self: flex-start;width: 50%;}#sk-container-id-1 div.sk-parallel-item:only-child::after {width: 0;}#sk-container-id-1 div.sk-dashed-wrapped {border: 1px dashed gray;margin: 0 0.4em 0.5em 0.4em;box-sizing: border-box;padding-bottom: 0.4em;background-color: white;}#sk-container-id-1 div.sk-label label {font-family: monospace;font-weight: bold;display: inline-block;line-height: 1.2em;}#sk-container-id-1 div.sk-label-container {text-align: center;}#sk-container-id-1 div.sk-container {/* jupyter's `normalize.less` sets `[hidden] { display: none; }` but bootstrap.min.css set `[hidden] { display: none !important; }` so we also need the `!important` here to be able to override the default hidden behavior on the sphinx rendered scikit-learn.org. See: https://github.com/scikit-learn/scikit-learn/issues/21755 */display: inline-block !important;position: relative;}#sk-container-id-1 div.sk-text-repr-fallback {display: none;}</style><div id=\"sk-container-id-1\" class=\"sk-top-container\"><div class=\"sk-text-repr-fallback\"><pre>Pipeline(steps=[(&#x27;preprocessor&#x27;,\n",
              "                 ColumnTransformer(transformers=[(&#x27;num&#x27;,\n",
              "                                                  Pipeline(steps=[(&#x27;scaler&#x27;,\n",
              "                                                                   StandardScaler())]),\n",
              "                                                  Index([&#x27;mileage&#x27;, &#x27;accidents&#x27;, &#x27;owners&#x27;, &#x27;car_age&#x27;], dtype=&#x27;object&#x27;)),\n",
              "                                                 (&#x27;cat&#x27;,\n",
              "                                                  Pipeline(steps=[(&#x27;one_hot&#x27;,\n",
              "                                                                   OneHotEncoder(handle_unknown=&#x27;ignore&#x27;))]),\n",
              "                                                  Index([&#x27;brand&#x27;, &#x27;model&#x27;, &#x27;drive_type&#x27;, &#x27;fuel_type&#x27;], dtype=&#x27;object&#x27;))])),\n",
              "                (&#x27;classifier&#x27;, LinearRegression())])</pre><b>In a Jupyter environment, please rerun this cell to show the HTML representation or trust the notebook. <br />On GitHub, the HTML representation is unable to render, please try loading this page with nbviewer.org.</b></div><div class=\"sk-container\" hidden><div class=\"sk-item sk-dashed-wrapped\"><div class=\"sk-label-container\"><div class=\"sk-label sk-toggleable\"><input class=\"sk-toggleable__control sk-hidden--visually\" id=\"sk-estimator-id-1\" type=\"checkbox\" ><label for=\"sk-estimator-id-1\" class=\"sk-toggleable__label sk-toggleable__label-arrow\">Pipeline</label><div class=\"sk-toggleable__content\"><pre>Pipeline(steps=[(&#x27;preprocessor&#x27;,\n",
              "                 ColumnTransformer(transformers=[(&#x27;num&#x27;,\n",
              "                                                  Pipeline(steps=[(&#x27;scaler&#x27;,\n",
              "                                                                   StandardScaler())]),\n",
              "                                                  Index([&#x27;mileage&#x27;, &#x27;accidents&#x27;, &#x27;owners&#x27;, &#x27;car_age&#x27;], dtype=&#x27;object&#x27;)),\n",
              "                                                 (&#x27;cat&#x27;,\n",
              "                                                  Pipeline(steps=[(&#x27;one_hot&#x27;,\n",
              "                                                                   OneHotEncoder(handle_unknown=&#x27;ignore&#x27;))]),\n",
              "                                                  Index([&#x27;brand&#x27;, &#x27;model&#x27;, &#x27;drive_type&#x27;, &#x27;fuel_type&#x27;], dtype=&#x27;object&#x27;))])),\n",
              "                (&#x27;classifier&#x27;, LinearRegression())])</pre></div></div></div><div class=\"sk-serial\"><div class=\"sk-item sk-dashed-wrapped\"><div class=\"sk-label-container\"><div class=\"sk-label sk-toggleable\"><input class=\"sk-toggleable__control sk-hidden--visually\" id=\"sk-estimator-id-2\" type=\"checkbox\" ><label for=\"sk-estimator-id-2\" class=\"sk-toggleable__label sk-toggleable__label-arrow\">preprocessor: ColumnTransformer</label><div class=\"sk-toggleable__content\"><pre>ColumnTransformer(transformers=[(&#x27;num&#x27;,\n",
              "                                 Pipeline(steps=[(&#x27;scaler&#x27;, StandardScaler())]),\n",
              "                                 Index([&#x27;mileage&#x27;, &#x27;accidents&#x27;, &#x27;owners&#x27;, &#x27;car_age&#x27;], dtype=&#x27;object&#x27;)),\n",
              "                                (&#x27;cat&#x27;,\n",
              "                                 Pipeline(steps=[(&#x27;one_hot&#x27;,\n",
              "                                                  OneHotEncoder(handle_unknown=&#x27;ignore&#x27;))]),\n",
              "                                 Index([&#x27;brand&#x27;, &#x27;model&#x27;, &#x27;drive_type&#x27;, &#x27;fuel_type&#x27;], dtype=&#x27;object&#x27;))])</pre></div></div></div><div class=\"sk-parallel\"><div class=\"sk-parallel-item\"><div class=\"sk-item\"><div class=\"sk-label-container\"><div class=\"sk-label sk-toggleable\"><input class=\"sk-toggleable__control sk-hidden--visually\" id=\"sk-estimator-id-3\" type=\"checkbox\" ><label for=\"sk-estimator-id-3\" class=\"sk-toggleable__label sk-toggleable__label-arrow\">num</label><div class=\"sk-toggleable__content\"><pre>Index([&#x27;mileage&#x27;, &#x27;accidents&#x27;, &#x27;owners&#x27;, &#x27;car_age&#x27;], dtype=&#x27;object&#x27;)</pre></div></div></div><div class=\"sk-serial\"><div class=\"sk-item\"><div class=\"sk-serial\"><div class=\"sk-item\"><div class=\"sk-estimator sk-toggleable\"><input class=\"sk-toggleable__control sk-hidden--visually\" id=\"sk-estimator-id-4\" type=\"checkbox\" ><label for=\"sk-estimator-id-4\" class=\"sk-toggleable__label sk-toggleable__label-arrow\">StandardScaler</label><div class=\"sk-toggleable__content\"><pre>StandardScaler()</pre></div></div></div></div></div></div></div></div><div class=\"sk-parallel-item\"><div class=\"sk-item\"><div class=\"sk-label-container\"><div class=\"sk-label sk-toggleable\"><input class=\"sk-toggleable__control sk-hidden--visually\" id=\"sk-estimator-id-5\" type=\"checkbox\" ><label for=\"sk-estimator-id-5\" class=\"sk-toggleable__label sk-toggleable__label-arrow\">cat</label><div class=\"sk-toggleable__content\"><pre>Index([&#x27;brand&#x27;, &#x27;model&#x27;, &#x27;drive_type&#x27;, &#x27;fuel_type&#x27;], dtype=&#x27;object&#x27;)</pre></div></div></div><div class=\"sk-serial\"><div class=\"sk-item\"><div class=\"sk-serial\"><div class=\"sk-item\"><div class=\"sk-estimator sk-toggleable\"><input class=\"sk-toggleable__control sk-hidden--visually\" id=\"sk-estimator-id-6\" type=\"checkbox\" ><label for=\"sk-estimator-id-6\" class=\"sk-toggleable__label sk-toggleable__label-arrow\">OneHotEncoder</label><div class=\"sk-toggleable__content\"><pre>OneHotEncoder(handle_unknown=&#x27;ignore&#x27;)</pre></div></div></div></div></div></div></div></div></div></div><div class=\"sk-item\"><div class=\"sk-estimator sk-toggleable\"><input class=\"sk-toggleable__control sk-hidden--visually\" id=\"sk-estimator-id-7\" type=\"checkbox\" ><label for=\"sk-estimator-id-7\" class=\"sk-toggleable__label sk-toggleable__label-arrow\">LinearRegression</label><div class=\"sk-toggleable__content\"><pre>LinearRegression()</pre></div></div></div></div></div></div></div>"
            ]
          },
          "metadata": {},
          "execution_count": 21
        }
      ]
    },
    {
      "cell_type": "code",
      "source": [
        "rmse_train = np.sqrt(mean_squared_error(np.exp(y_train),np.exp(y_pred_train)))\n",
        "print(f'Root Mean Square Error Linear Regression: {rmse_train}')"
      ],
      "metadata": {
        "colab": {
          "base_uri": "https://localhost:8080/"
        },
        "id": "OPtOm7_9Gaj5",
        "outputId": "780ee165-7308-4556-da63-130c5bd6ce10"
      },
      "execution_count": 22,
      "outputs": [
        {
          "output_type": "stream",
          "name": "stdout",
          "text": [
            "Root Mean Square Error Linear Regression: 3483.329064574341\n"
          ]
        }
      ]
    },
    {
      "cell_type": "code",
      "source": [
        "# Checking RMSE for this model\n",
        "rmse_test = np.sqrt(mean_squared_error(np.exp(y_test),np.exp(y_pred_test)))\n",
        "print(f'Root Mean Square Error Linear Regression: {rmse_test}')"
      ],
      "metadata": {
        "colab": {
          "base_uri": "https://localhost:8080/"
        },
        "id": "GkEVMJerGbvK",
        "outputId": "02b79322-baa7-4c91-c6ac-95cff06619ed"
      },
      "execution_count": 23,
      "outputs": [
        {
          "output_type": "stream",
          "name": "stdout",
          "text": [
            "Root Mean Square Error Linear Regression: 4029.893729851022\n"
          ]
        }
      ]
    },
    {
      "cell_type": "code",
      "source": [
        "plt.figure(figsize=(10,5))\n",
        "plt.plot(y_test, y_pred_test,'ro',alpha=0.2)\n",
        "plt.xlabel('Actual')\n",
        "plt.ylabel('Predicted')\n",
        "plt.show()"
      ],
      "metadata": {
        "colab": {
          "base_uri": "https://localhost:8080/",
          "height": 465
        },
        "id": "HBAtP00UGfQU",
        "outputId": "53743094-dfbf-47e1-c5fc-a387c408b5d4"
      },
      "execution_count": 24,
      "outputs": [
        {
          "output_type": "display_data",
          "data": {
            "text/plain": [
              "<Figure size 1000x500 with 1 Axes>"
            ],
            "image/png": "[encoded data removed]"
          },
          "metadata": {}
        }
      ]
    },
    {
      "cell_type": "markdown",
      "source": [
        "Our training dataset looks very good, though its not completely random, there is linearity in the plot"
      ],
      "metadata": {
        "id": "wxicCVilGmzh"
      }
    },
    {
      "cell_type": "markdown",
      "source": [
        "##Residual plot"
      ],
      "metadata": {
        "id": "id60AHB0Gp1Q"
      }
    },
    {
      "cell_type": "code",
      "source": [
        "residual_plot = (y_test - y_pred_test)\n",
        "plt.figure(figsize=(10,5))\n",
        "sns.distplot(residual_plot);\n",
        "plt.title('Residual plot for linear regression training model')"
      ],
      "metadata": {
        "colab": {
          "base_uri": "https://localhost:8080/",
          "height": 485
        },
        "id": "vS2SozvcGild",
        "outputId": "dacff583-dc54-4d4f-ffa5-98073dce1e4a"
      },
      "execution_count": 25,
      "outputs": [
        {
          "output_type": "execute_result",
          "data": {
            "text/plain": [
              "Text(0.5, 1.0, 'Residual plot for linear regression training model')"
            ]
          },
          "metadata": {},
          "execution_count": 25
        },
        {
          "output_type": "display_data",
          "data": {
            "text/plain": [
              "<Figure size 1000x500 with 1 Axes>"
            ],
            "image/png": "[encoded data removed]"
          },
          "metadata": {}
        }
      ]
    },
    {
      "cell_type": "markdown",
      "source": [
        "1.Most of the values lie in and around zero which is very good.\n",
        "\n",
        "2.From this model we can interpret that sometime when car price would be less this model might predict wrong because mean square error is 5911 approX"
      ],
      "metadata": {
        "id": "5FZrTqMyGw2o"
      }
    },
    {
      "cell_type": "markdown",
      "source": [
        "##RANDOM FOREST MODEL"
      ],
      "metadata": {
        "id": "6rms25R7G7se"
      }
    },
    {
      "cell_type": "code",
      "source": [
        "pipe_rf = Pipeline(steps=[\n",
        "    ('preprocessor', preprocessor),\n",
        "    ('classifier',   RandomForestRegressor())\n",
        "])\n",
        "\n",
        "model_rf = pipe_rf.fit(X_train, y_train)\n",
        "\n",
        "y_pred_rf_train = model_rf.predict(X_train)\n",
        "y_pred_rf_test = model_rf.predict(X_test)\n",
        "\n",
        "print('Training set score: ' + str(model_rf.score(X_train, y_train)))\n",
        "print('Test set score: ' + str(model_rf.score(X_test, y_test)))"
      ],
      "metadata": {
        "colab": {
          "base_uri": "https://localhost:8080/"
        },
        "id": "uZY3DEhnG5Zn",
        "outputId": "b299dd80-b731-44e7-d63f-9bc8509f1d3e"
      },
      "execution_count": 26,
      "outputs": [
        {
          "output_type": "stream",
          "name": "stdout",
          "text": [
            "Training set score: 0.9848364983622303\n",
            "Test set score: 0.8934134512328151\n"
          ]
        }
      ]
    },
    {
      "cell_type": "code",
      "source": [
        "rmse_rf_train = np.sqrt(mean_squared_error(np.exp(y_train),np.exp(y_pred_rf_train)))\n",
        "print(f'Root Mean Square Error RF Model for train data: {rmse_rf_train}')"
      ],
      "metadata": {
        "colab": {
          "base_uri": "https://localhost:8080/"
        },
        "id": "kPIA6i6xG_yn",
        "outputId": "af1bf2fc-9167-4dae-d57d-e3bbab275390"
      },
      "execution_count": 27,
      "outputs": [
        {
          "output_type": "stream",
          "name": "stdout",
          "text": [
            "Root Mean Square Error RF Model for train data: 2423.062640394035\n"
          ]
        }
      ]
    },
    {
      "cell_type": "code",
      "source": [
        "rmse_rf_test = np.sqrt(mean_squared_error(np.exp(y_test),np.exp(y_pred_rf_test)))\n",
        "print(f'Root Mean Square Error Random Forest wt Onehotencoding: {rmse_rf_test}')"
      ],
      "metadata": {
        "colab": {
          "base_uri": "https://localhost:8080/"
        },
        "id": "F0-wCnJ3HCz2",
        "outputId": "3f6fb36a-e68f-4297-e2dc-c58ffc004115"
      },
      "execution_count": 28,
      "outputs": [
        {
          "output_type": "stream",
          "name": "stdout",
          "text": [
            "Root Mean Square Error Random Forest wt Onehotencoding: 4557.426524940635\n"
          ]
        }
      ]
    },
    {
      "cell_type": "markdown",
      "source": [
        "###Hyper Tuning the RF model Grid Search CV"
      ],
      "metadata": {
        "id": "XuLhSGFhHOIF"
      }
    },
    {
      "cell_type": "markdown",
      "source": [
        "The above model was overfitting for training data so we go ahead with hypertuning the model"
      ],
      "metadata": {
        "id": "g1YiVT8_HmNw"
      }
    },
    {
      "cell_type": "code",
      "source": [
        "param_grid = [{'classifier__n_estimators': [10, 25], \n",
        "               'classifier__max_features': ['auto', 'sqrt', 'log2'],\n",
        " 'classifier__max_depth': [10, 50, None]}]"
      ],
      "metadata": {
        "id": "GwKQqf3hHLeH"
      },
      "execution_count": 29,
      "outputs": []
    },
    {
      "cell_type": "code",
      "source": [
        "# Hypertuning this model\n",
        "model_rf_gsc = GridSearchCV(pipe_rf, param_grid, cv=10, scoring='neg_mean_squared_error')"
      ],
      "metadata": {
        "id": "ZwhTokeZHssr"
      },
      "execution_count": 30,
      "outputs": []
    },
    {
      "cell_type": "code",
      "source": [
        "model_rf_gsc.fit(X_train, y_train)\n",
        "model_rf_gsc.best_params_"
      ],
      "metadata": {
        "colab": {
          "base_uri": "https://localhost:8080/"
        },
        "id": "Sf9gcIZsHtoU",
        "outputId": "266b3c6a-61f6-4ee8-eb56-a23c858e014a"
      },
      "execution_count": 31,
      "outputs": [
        {
          "output_type": "execute_result",
          "data": {
            "text/plain": [
              "{'classifier__max_depth': None,\n",
              " 'classifier__max_features': 'sqrt',\n",
              " 'classifier__n_estimators': 25}"
            ]
          },
          "metadata": {},
          "execution_count": 31
        }
      ]
    },
    {
      "cell_type": "code",
      "source": [
        "y_pred_rf_gsc_train = model_rf_gsc.predict(X_train)"
      ],
      "metadata": {
        "id": "rIbIcTI-HwLH"
      },
      "execution_count": 32,
      "outputs": []
    },
    {
      "cell_type": "code",
      "source": [
        "y_pred_rf_gsc_test = model_rf_gsc.predict(X_test)"
      ],
      "metadata": {
        "id": "aGS03zyfHztr"
      },
      "execution_count": 33,
      "outputs": []
    },
    {
      "cell_type": "code",
      "source": [
        "r2_score(y_train, y_pred_rf_gsc_train )"
      ],
      "metadata": {
        "colab": {
          "base_uri": "https://localhost:8080/"
        },
        "id": "Xz-lcqRlH1zg",
        "outputId": "8cba20d8-cac1-4d3f-e19c-2f4e4260e0f3"
      },
      "execution_count": 34,
      "outputs": [
        {
          "output_type": "execute_result",
          "data": {
            "text/plain": [
              "0.9822437600451533"
            ]
          },
          "metadata": {},
          "execution_count": 34
        }
      ]
    },
    {
      "cell_type": "code",
      "source": [
        "r2_score(y_test, y_pred_rf_gsc_test )"
      ],
      "metadata": {
        "colab": {
          "base_uri": "https://localhost:8080/"
        },
        "id": "pFlPY3CKH5gA",
        "outputId": "21015c44-09ec-48ba-b125-9513d4da364a"
      },
      "execution_count": 35,
      "outputs": [
        {
          "output_type": "execute_result",
          "data": {
            "text/plain": [
              "0.8836331956884578"
            ]
          },
          "metadata": {},
          "execution_count": 35
        }
      ]
    },
    {
      "cell_type": "code",
      "source": [
        "rmse_rf_gsc_train = np.sqrt(mean_squared_error(np.exp(y_train),np.exp(y_pred_rf_gsc_train)))\n",
        "print(f'Root Mean Square Error RF-GSC-Train: {rmse_rf_gsc_train}')\n"
      ],
      "metadata": {
        "colab": {
          "base_uri": "https://localhost:8080/"
        },
        "id": "0IkFrhAiJAZd",
        "outputId": "f1da9acf-9667-482f-b189-5ed3096fa1ef"
      },
      "execution_count": 36,
      "outputs": [
        {
          "output_type": "stream",
          "name": "stdout",
          "text": [
            "Root Mean Square Error RF-GSC-Train: 2715.260468630932\n"
          ]
        }
      ]
    },
    {
      "cell_type": "code",
      "source": [
        "rmse_rf_gsc_test = np.sqrt(mean_squared_error(np.exp(y_test),np.exp(y_pred_rf_gsc_test)))\n",
        "print(f'Root Mean Square Error RF-GSC-Test: {rmse_rf_gsc_test}')"
      ],
      "metadata": {
        "colab": {
          "base_uri": "https://localhost:8080/"
        },
        "id": "f2wiiL3iJBwG",
        "outputId": "a76e688d-a48b-49d1-881c-309bcd6e3515"
      },
      "execution_count": 37,
      "outputs": [
        {
          "output_type": "stream",
          "name": "stdout",
          "text": [
            "Root Mean Square Error RF-GSC-Test: 5320.671207157674\n"
          ]
        }
      ]
    },
    {
      "cell_type": "markdown",
      "source": [
        "Random forest has better performance when compared to Linear Regression Model. Now next for this model we would not induce one hot encoding because we all know that random forest classifier is sensitive to one hot encoding if we induce one-hot to a decision tree splitting can result in sparse decision tree. The trees generally tend to grow in one direction because at every split of a categorical variable there are only two values (0 or 1). The tree grows in the direction of zeroes in the dummy variables."
      ],
      "metadata": {
        "id": "x9y4-SRUQav7"
      }
    },
    {
      "cell_type": "markdown",
      "source": [
        "##Now using label encoder with RF model"
      ],
      "metadata": {
        "id": "2rgz0GObQg6D"
      }
    },
    {
      "cell_type": "code",
      "source": [
        "X_rf = X_temp.drop(['car_usage_type','interior_color','exterior_color','state','transmission'], axis=1)\n",
        "y_rf = df['price'].values"
      ],
      "metadata": {
        "id": "bvfd1qpHQeB4"
      },
      "execution_count": 38,
      "outputs": []
    },
    {
      "cell_type": "code",
      "source": [
        "X_train_rf, X_test_rf, y_train_rf, y_test_rf = train_test_split(X_rf, y_rf, test_size=0.2)"
      ],
      "metadata": {
        "id": "LtAzn5oSQlFC"
      },
      "execution_count": 39,
      "outputs": []
    },
    {
      "cell_type": "code",
      "source": [
        "pipe_rf_base = Pipeline([\n",
        "# ('scaler', StandardScaler()),\n",
        "('classifier', RandomForestRegressor())])"
      ],
      "metadata": {
        "id": "t0ntXwpPQpKd"
      },
      "execution_count": 40,
      "outputs": []
    },
    {
      "cell_type": "code",
      "source": [
        "model_rf_2 = pipe_rf_base.fit(X_train_rf, y_train_rf)\n",
        "y_pred_rf_2_train = model_rf_2.predict(X_train_rf)\n",
        "y_pred_rf_2_test = model_rf_2.predict(X_test_rf)\n",
        "print('Training set score: ' + str(pipe_rf_base.score(X_train_rf,y_train_rf)))\n",
        "print('Test set score: ' + str(pipe_rf_base.score(X_test_rf,y_test_rf)))"
      ],
      "metadata": {
        "colab": {
          "base_uri": "https://localhost:8080/"
        },
        "id": "Duv5pYy7Qqhb",
        "outputId": "fb40a381-f7df-4026-bec7-a59b5e075548"
      },
      "execution_count": 41,
      "outputs": [
        {
          "output_type": "stream",
          "name": "stdout",
          "text": [
            "Training set score: 0.985618107538452\n",
            "Test set score: 0.8857858043190586\n"
          ]
        }
      ]
    },
    {
      "cell_type": "code",
      "source": [
        "rmse_rf_2_train = np.sqrt(mean_squared_error(y_train_rf,y_pred_rf_2_train))\n",
        "print(f'Root Mean Square Error RF model with lc for train data: {rmse_rf_2_train}')"
      ],
      "metadata": {
        "colab": {
          "base_uri": "https://localhost:8080/"
        },
        "id": "izgDCsakQuMm",
        "outputId": "de5667c9-5cf8-4b69-d31a-b6501d2f9d1c"
      },
      "execution_count": 42,
      "outputs": [
        {
          "output_type": "stream",
          "name": "stdout",
          "text": [
            "Root Mean Square Error RF model with lc for train data: 1621.757973182967\n"
          ]
        }
      ]
    },
    {
      "cell_type": "code",
      "source": [
        "rmse_rf_2_test = np.sqrt(mean_squared_error(y_test_rf,y_pred_rf_2_test))\n",
        "print(f'Root Mean Square Error RF model with lc for test data: {rmse_rf_2_test}')"
      ],
      "metadata": {
        "colab": {
          "base_uri": "https://localhost:8080/"
        },
        "id": "tbVyrHkdQxW7",
        "outputId": "bbffc5c8-f835-4a3c-be93-f50a75b3c920"
      },
      "execution_count": 43,
      "outputs": [
        {
          "output_type": "stream",
          "name": "stdout",
          "text": [
            "Root Mean Square Error RF model with lc for test data: 4240.7874380940675\n"
          ]
        }
      ]
    },
    {
      "cell_type": "markdown",
      "source": [
        "##Hyper Tuning this model with Grid Search CV"
      ],
      "metadata": {
        "id": "fhVYsMg6Q28e"
      }
    },
    {
      "cell_type": "code",
      "source": [
        "model_rf_3 = GridSearchCV(pipe_rf_base, param_grid, cv=10)"
      ],
      "metadata": {
        "id": "pCKqnairQ0Vd"
      },
      "execution_count": 44,
      "outputs": []
    },
    {
      "cell_type": "code",
      "source": [
        "model_rf_3.fit(X_train_rf, y_train_rf)\n",
        "model_rf_3.best_params_"
      ],
      "metadata": {
        "colab": {
          "base_uri": "https://localhost:8080/"
        },
        "id": "uyB19ZYfQ61b",
        "outputId": "c7db9c89-3a5d-49ac-b030-0a610c5ad589"
      },
      "execution_count": 45,
      "outputs": [
        {
          "output_type": "execute_result",
          "data": {
            "text/plain": [
              "{'classifier__max_depth': 50,\n",
              " 'classifier__max_features': 'log2',\n",
              " 'classifier__n_estimators': 25}"
            ]
          },
          "metadata": {},
          "execution_count": 45
        }
      ]
    },
    {
      "cell_type": "code",
      "source": [
        "y_pred_hpr_rf_train = model_rf_3.predict(X_train_rf)"
      ],
      "metadata": {
        "id": "11gDX8JyRAN_"
      },
      "execution_count": 46,
      "outputs": []
    },
    {
      "cell_type": "code",
      "source": [
        "y_pred_hpr_rf_test = model_rf_3.predict(X_test_rf)"
      ],
      "metadata": {
        "id": "Elw-oUHcRCku"
      },
      "execution_count": 47,
      "outputs": []
    },
    {
      "cell_type": "code",
      "source": [
        "r2_score(y_test_rf, y_pred_hpr_rf_test )"
      ],
      "metadata": {
        "colab": {
          "base_uri": "https://localhost:8080/"
        },
        "id": "Tqb38SN1REgs",
        "outputId": "26da2fb7-7260-4b95-c05e-1bcc3600beb9"
      },
      "execution_count": 48,
      "outputs": [
        {
          "output_type": "execute_result",
          "data": {
            "text/plain": [
              "0.884437786133487"
            ]
          },
          "metadata": {},
          "execution_count": 48
        }
      ]
    },
    {
      "cell_type": "code",
      "source": [
        "rmse_rf_hpr_train = np.sqrt(mean_squared_error(y_train_rf,y_pred_hpr_rf_train))\n",
        "print(f'Root Mean Square Error RF-HPR-Train: {rmse_rf_hpr_train}')"
      ],
      "metadata": {
        "colab": {
          "base_uri": "https://localhost:8080/"
        },
        "id": "adA9g0H5RGnm",
        "outputId": "65981d65-faa9-4a3b-b82a-bae423a1a83a"
      },
      "execution_count": 49,
      "outputs": [
        {
          "output_type": "stream",
          "name": "stdout",
          "text": [
            "Root Mean Square Error RF-HPR-Train: 1893.760299003593\n"
          ]
        }
      ]
    },
    {
      "cell_type": "code",
      "source": [
        "rmse_rf_hpr_test = np.sqrt(mean_squared_error(y_test_rf,y_pred_hpr_rf_test))\n",
        "print(f'Root Mean Square Error RF-HPR-Test: {rmse_rf_hpr_test}')"
      ],
      "metadata": {
        "colab": {
          "base_uri": "https://localhost:8080/"
        },
        "id": "1zqsFu36RIyn",
        "outputId": "205d6b6c-6dfe-4de7-b665-501748c3cd55"
      },
      "execution_count": 50,
      "outputs": [
        {
          "output_type": "stream",
          "name": "stdout",
          "text": [
            "Root Mean Square Error RF-HPR-Test: 4265.7400702373\n"
          ]
        }
      ]
    },
    {
      "cell_type": "markdown",
      "source": [
        "Hypertuning the model with Grid Search Cross validation is not imporving RMSE by much now we will try Random SearchCV"
      ],
      "metadata": {
        "id": "vGRhTR20RRFG"
      }
    },
    {
      "cell_type": "markdown",
      "source": [
        "##Randomized SearchCV with RF model"
      ],
      "metadata": {
        "id": "piyOCqwPRSDz"
      }
    },
    {
      "cell_type": "code",
      "source": [
        "# Number of trees in random forest\n",
        "n_estimators = [int(x) for x in np.linspace(start = 20, stop = 200, num = 5)]\n",
        "# Number of features to consider at every split\n",
        "max_features = ['auto', 'sqrt']\n",
        "# Maximum number of levels in tree\n",
        "max_depth = [int(x) for x in np.linspace(1, 45, num = 3)]\n",
        "# Minimum number of samples required to split a node\n",
        "min_samples_split = [5, 10]\n",
        "\n",
        "# Create the random grid\n",
        "random_grid = {'n_estimators': n_estimators,\n",
        "               'max_features': max_features,\n",
        "               'max_depth': max_depth,\n",
        "               'min_samples_split': min_samples_split}\n",
        "\n",
        "pprint(random_grid)"
      ],
      "metadata": {
        "colab": {
          "base_uri": "https://localhost:8080/"
        },
        "id": "VDVEejEqRVHL",
        "outputId": "93d11cfc-1232-4b81-ad25-6d930435b7b5"
      },
      "execution_count": 51,
      "outputs": [
        {
          "output_type": "stream",
          "name": "stdout",
          "text": [
            "{'max_depth': [1, 23, 45],\n",
            " 'max_features': ['auto', 'sqrt'],\n",
            " 'min_samples_split': [5, 10],\n",
            " 'n_estimators': [20, 65, 110, 155, 200]}\n"
          ]
        }
      ]
    },
    {
      "cell_type": "code",
      "source": [
        "forest = RandomForestRegressor()"
      ],
      "metadata": {
        "id": "tw6620JCReRX"
      },
      "execution_count": 52,
      "outputs": []
    },
    {
      "cell_type": "code",
      "source": [
        "rf_random = RandomizedSearchCV(estimator = forest , param_distributions = random_grid, n_iter = 10, cv = 10, verbose=2, random_state=42, n_jobs = -1, scoring='neg_mean_squared_error')\n",
        "# Fit the random search model\n",
        "rf_random.fit(X_train_rf, y_train_rf)"
      ],
      "metadata": {
        "colab": {
          "base_uri": "https://localhost:8080/",
          "height": 133
        },
        "id": "3X2OpKpiRfbl",
        "outputId": "a2cc4682-c35e-469d-f039-f683551ae432"
      },
      "execution_count": 53,
      "outputs": [
        {
          "output_type": "stream",
          "name": "stdout",
          "text": [
            "Fitting 10 folds for each of 10 candidates, totalling 100 fits\n"
          ]
        },
        {
          "output_type": "execute_result",
          "data": {
            "text/plain": [
              "RandomizedSearchCV(cv=10, estimator=RandomForestRegressor(), n_jobs=-1,\n",
              "                   param_distributions={'max_depth': [1, 23, 45],\n",
              "                                        'max_features': ['auto', 'sqrt'],\n",
              "                                        'min_samples_split': [5, 10],\n",
              "                                        'n_estimators': [20, 65, 110, 155,\n",
              "                                                         200]},\n",
              "                   random_state=42, scoring='neg_mean_squared_error',\n",
              "                   verbose=2)"
            ],
            "text/html": [
              "<style>#sk-container-id-2 {color: black;background-color: white;}#sk-container-id-2 pre{padding: 0;}#sk-container-id-2 div.sk-toggleable {background-color: white;}#sk-container-id-2 label.sk-toggleable__label {cursor: pointer;display: block;width: 100%;margin-bottom: 0;padding: 0.3em;box-sizing: border-box;text-align: center;}#sk-container-id-2 label.sk-toggleable__label-arrow:before {content: \"▸\";float: left;margin-right: 0.25em;color: #696969;}#sk-container-id-2 label.sk-toggleable__label-arrow:hover:before {color: black;}#sk-container-id-2 div.sk-estimator:hover label.sk-toggleable__label-arrow:before {color: black;}#sk-container-id-2 div.sk-toggleable__content {max-height: 0;max-width: 0;overflow: hidden;text-align: left;background-color: #f0f8ff;}#sk-container-id-2 div.sk-toggleable__content pre {margin: 0.2em;color: black;border-radius: 0.25em;background-color: #f0f8ff;}#sk-container-id-2 input.sk-toggleable__control:checked~div.sk-toggleable__content {max-height: 200px;max-width: 100%;overflow: auto;}#sk-container-id-2 input.sk-toggleable__control:checked~label.sk-toggleable__label-arrow:before {content: \"▾\";}#sk-container-id-2 div.sk-estimator input.sk-toggleable__control:checked~label.sk-toggleable__label {background-color: #d4ebff;}#sk-container-id-2 div.sk-label input.sk-toggleable__control:checked~label.sk-toggleable__label {background-color: #d4ebff;}#sk-container-id-2 input.sk-hidden--visually {border: 0;clip: rect(1px 1px 1px 1px);clip: rect(1px, 1px, 1px, 1px);height: 1px;margin: -1px;overflow: hidden;padding: 0;position: absolute;width: 1px;}#sk-container-id-2 div.sk-estimator {font-family: monospace;background-color: #f0f8ff;border: 1px dotted black;border-radius: 0.25em;box-sizing: border-box;margin-bottom: 0.5em;}#sk-container-id-2 div.sk-estimator:hover {background-color: #d4ebff;}#sk-container-id-2 div.sk-parallel-item::after {content: \"\";width: 100%;border-bottom: 1px solid gray;flex-grow: 1;}#sk-container-id-2 div.sk-label:hover label.sk-toggleable__label {background-color: #d4ebff;}#sk-container-id-2 div.sk-serial::before {content: \"\";position: absolute;border-left: 1px solid gray;box-sizing: border-box;top: 0;bottom: 0;left: 50%;z-index: 0;}#sk-container-id-2 div.sk-serial {display: flex;flex-direction: column;align-items: center;background-color: white;padding-right: 0.2em;padding-left: 0.2em;position: relative;}#sk-container-id-2 div.sk-item {position: relative;z-index: 1;}#sk-container-id-2 div.sk-parallel {display: flex;align-items: stretch;justify-content: center;background-color: white;position: relative;}#sk-container-id-2 div.sk-item::before, #sk-container-id-2 div.sk-parallel-item::before {content: \"\";position: absolute;border-left: 1px solid gray;box-sizing: border-box;top: 0;bottom: 0;left: 50%;z-index: -1;}#sk-container-id-2 div.sk-parallel-item {display: flex;flex-direction: column;z-index: 1;position: relative;background-color: white;}#sk-container-id-2 div.sk-parallel-item:first-child::after {align-self: flex-end;width: 50%;}#sk-container-id-2 div.sk-parallel-item:last-child::after {align-self: flex-start;width: 50%;}#sk-container-id-2 div.sk-parallel-item:only-child::after {width: 0;}#sk-container-id-2 div.sk-dashed-wrapped {border: 1px dashed gray;margin: 0 0.4em 0.5em 0.4em;box-sizing: border-box;padding-bottom: 0.4em;background-color: white;}#sk-container-id-2 div.sk-label label {font-family: monospace;font-weight: bold;display: inline-block;line-height: 1.2em;}#sk-container-id-2 div.sk-label-container {text-align: center;}#sk-container-id-2 div.sk-container {/* jupyter's `normalize.less` sets `[hidden] { display: none; }` but bootstrap.min.css set `[hidden] { display: none !important; }` so we also need the `!important` here to be able to override the default hidden behavior on the sphinx rendered scikit-learn.org. See: https://github.com/scikit-learn/scikit-learn/issues/21755 */display: inline-block !important;position: relative;}#sk-container-id-2 div.sk-text-repr-fallback {display: none;}</style><div id=\"sk-container-id-2\" class=\"sk-top-container\"><div class=\"sk-text-repr-fallback\"><pre>RandomizedSearchCV(cv=10, estimator=RandomForestRegressor(), n_jobs=-1,\n",
              "                   param_distributions={&#x27;max_depth&#x27;: [1, 23, 45],\n",
              "                                        &#x27;max_features&#x27;: [&#x27;auto&#x27;, &#x27;sqrt&#x27;],\n",
              "                                        &#x27;min_samples_split&#x27;: [5, 10],\n",
              "                                        &#x27;n_estimators&#x27;: [20, 65, 110, 155,\n",
              "                                                         200]},\n",
              "                   random_state=42, scoring=&#x27;neg_mean_squared_error&#x27;,\n",
              "                   verbose=2)</pre><b>In a Jupyter environment, please rerun this cell to show the HTML representation or trust the notebook. <br />On GitHub, the HTML representation is unable to render, please try loading this page with nbviewer.org.</b></div><div class=\"sk-container\" hidden><div class=\"sk-item sk-dashed-wrapped\"><div class=\"sk-label-container\"><div class=\"sk-label sk-toggleable\"><input class=\"sk-toggleable__control sk-hidden--visually\" id=\"sk-estimator-id-8\" type=\"checkbox\" ><label for=\"sk-estimator-id-8\" class=\"sk-toggleable__label sk-toggleable__label-arrow\">RandomizedSearchCV</label><div class=\"sk-toggleable__content\"><pre>RandomizedSearchCV(cv=10, estimator=RandomForestRegressor(), n_jobs=-1,\n",
              "                   param_distributions={&#x27;max_depth&#x27;: [1, 23, 45],\n",
              "                                        &#x27;max_features&#x27;: [&#x27;auto&#x27;, &#x27;sqrt&#x27;],\n",
              "                                        &#x27;min_samples_split&#x27;: [5, 10],\n",
              "                                        &#x27;n_estimators&#x27;: [20, 65, 110, 155,\n",
              "                                                         200]},\n",
              "                   random_state=42, scoring=&#x27;neg_mean_squared_error&#x27;,\n",
              "                   verbose=2)</pre></div></div></div><div class=\"sk-parallel\"><div class=\"sk-parallel-item\"><div class=\"sk-item\"><div class=\"sk-label-container\"><div class=\"sk-label sk-toggleable\"><input class=\"sk-toggleable__control sk-hidden--visually\" id=\"sk-estimator-id-9\" type=\"checkbox\" ><label for=\"sk-estimator-id-9\" class=\"sk-toggleable__label sk-toggleable__label-arrow\">estimator: RandomForestRegressor</label><div class=\"sk-toggleable__content\"><pre>RandomForestRegressor()</pre></div></div></div><div class=\"sk-serial\"><div class=\"sk-item\"><div class=\"sk-estimator sk-toggleable\"><input class=\"sk-toggleable__control sk-hidden--visually\" id=\"sk-estimator-id-10\" type=\"checkbox\" ><label for=\"sk-estimator-id-10\" class=\"sk-toggleable__label sk-toggleable__label-arrow\">RandomForestRegressor</label><div class=\"sk-toggleable__content\"><pre>RandomForestRegressor()</pre></div></div></div></div></div></div></div></div></div></div>"
            ]
          },
          "metadata": {},
          "execution_count": 53
        }
      ]
    },
    {
      "cell_type": "code",
      "source": [
        "rs_res2 = rf_random.cv_results_\n",
        "for mean_score, params in zip(rs_res2[\"mean_test_score\"], rs_res2[\"params\"]):\n",
        "    print(np.sqrt(-mean_score), params)"
      ],
      "metadata": {
        "colab": {
          "base_uri": "https://localhost:8080/"
        },
        "id": "7Mmp4OAZRiT-",
        "outputId": "b73ef4aa-8265-4a48-fa1b-40c85dc9b7df"
      },
      "execution_count": 54,
      "outputs": [
        {
          "output_type": "stream",
          "name": "stdout",
          "text": [
            "11869.19657854937 {'n_estimators': 20, 'min_samples_split': 5, 'max_features': 'auto', 'max_depth': 1}\n",
            "11971.455868619792 {'n_estimators': 20, 'min_samples_split': 10, 'max_features': 'auto', 'max_depth': 1}\n",
            "4858.276302282175 {'n_estimators': 65, 'min_samples_split': 10, 'max_features': 'sqrt', 'max_depth': 23}\n",
            "4668.596318796266 {'n_estimators': 20, 'min_samples_split': 10, 'max_features': 'auto', 'max_depth': 45}\n",
            "11633.241347800025 {'n_estimators': 155, 'min_samples_split': 5, 'max_features': 'sqrt', 'max_depth': 1}\n",
            "4564.174904527898 {'n_estimators': 200, 'min_samples_split': 5, 'max_features': 'sqrt', 'max_depth': 45}\n",
            "4622.991553922116 {'n_estimators': 155, 'min_samples_split': 5, 'max_features': 'sqrt', 'max_depth': 23}\n",
            "4613.473407918393 {'n_estimators': 155, 'min_samples_split': 10, 'max_features': 'auto', 'max_depth': 45}\n",
            "11656.012249518655 {'n_estimators': 110, 'min_samples_split': 5, 'max_features': 'sqrt', 'max_depth': 1}\n",
            "4850.247942830413 {'n_estimators': 110, 'min_samples_split': 10, 'max_features': 'sqrt', 'max_depth': 45}\n"
          ]
        }
      ]
    },
    {
      "cell_type": "code",
      "source": [
        "rf_random.best_estimator_"
      ],
      "metadata": {
        "colab": {
          "base_uri": "https://localhost:8080/",
          "height": 91
        },
        "id": "0-PTh9qFRuW9",
        "outputId": "93ea8d1c-cdff-4439-aadc-1f084af562f6"
      },
      "execution_count": 55,
      "outputs": [
        {
          "output_type": "execute_result",
          "data": {
            "text/plain": [
              "RandomForestRegressor(max_depth=45, max_features='sqrt', min_samples_split=5,\n",
              "                      n_estimators=200)"
            ],
            "text/html": [
              "<style>#sk-container-id-3 {color: black;background-color: white;}#sk-container-id-3 pre{padding: 0;}#sk-container-id-3 div.sk-toggleable {background-color: white;}#sk-container-id-3 label.sk-toggleable__label {cursor: pointer;display: block;width: 100%;margin-bottom: 0;padding: 0.3em;box-sizing: border-box;text-align: center;}#sk-container-id-3 label.sk-toggleable__label-arrow:before {content: \"▸\";float: left;margin-right: 0.25em;color: #696969;}#sk-container-id-3 label.sk-toggleable__label-arrow:hover:before {color: black;}#sk-container-id-3 div.sk-estimator:hover label.sk-toggleable__label-arrow:before {color: black;}#sk-container-id-3 div.sk-toggleable__content {max-height: 0;max-width: 0;overflow: hidden;text-align: left;background-color: #f0f8ff;}#sk-container-id-3 div.sk-toggleable__content pre {margin: 0.2em;color: black;border-radius: 0.25em;background-color: #f0f8ff;}#sk-container-id-3 input.sk-toggleable__control:checked~div.sk-toggleable__content {max-height: 200px;max-width: 100%;overflow: auto;}#sk-container-id-3 input.sk-toggleable__control:checked~label.sk-toggleable__label-arrow:before {content: \"▾\";}#sk-container-id-3 div.sk-estimator input.sk-toggleable__control:checked~label.sk-toggleable__label {background-color: #d4ebff;}#sk-container-id-3 div.sk-label input.sk-toggleable__control:checked~label.sk-toggleable__label {background-color: #d4ebff;}#sk-container-id-3 input.sk-hidden--visually {border: 0;clip: rect(1px 1px 1px 1px);clip: rect(1px, 1px, 1px, 1px);height: 1px;margin: -1px;overflow: hidden;padding: 0;position: absolute;width: 1px;}#sk-container-id-3 div.sk-estimator {font-family: monospace;background-color: #f0f8ff;border: 1px dotted black;border-radius: 0.25em;box-sizing: border-box;margin-bottom: 0.5em;}#sk-container-id-3 div.sk-estimator:hover {background-color: #d4ebff;}#sk-container-id-3 div.sk-parallel-item::after {content: \"\";width: 100%;border-bottom: 1px solid gray;flex-grow: 1;}#sk-container-id-3 div.sk-label:hover label.sk-toggleable__label {background-color: #d4ebff;}#sk-container-id-3 div.sk-serial::before {content: \"\";position: absolute;border-left: 1px solid gray;box-sizing: border-box;top: 0;bottom: 0;left: 50%;z-index: 0;}#sk-container-id-3 div.sk-serial {display: flex;flex-direction: column;align-items: center;background-color: white;padding-right: 0.2em;padding-left: 0.2em;position: relative;}#sk-container-id-3 div.sk-item {position: relative;z-index: 1;}#sk-container-id-3 div.sk-parallel {display: flex;align-items: stretch;justify-content: center;background-color: white;position: relative;}#sk-container-id-3 div.sk-item::before, #sk-container-id-3 div.sk-parallel-item::before {content: \"\";position: absolute;border-left: 1px solid gray;box-sizing: border-box;top: 0;bottom: 0;left: 50%;z-index: -1;}#sk-container-id-3 div.sk-parallel-item {display: flex;flex-direction: column;z-index: 1;position: relative;background-color: white;}#sk-container-id-3 div.sk-parallel-item:first-child::after {align-self: flex-end;width: 50%;}#sk-container-id-3 div.sk-parallel-item:last-child::after {align-self: flex-start;width: 50%;}#sk-container-id-3 div.sk-parallel-item:only-child::after {width: 0;}#sk-container-id-3 div.sk-dashed-wrapped {border: 1px dashed gray;margin: 0 0.4em 0.5em 0.4em;box-sizing: border-box;padding-bottom: 0.4em;background-color: white;}#sk-container-id-3 div.sk-label label {font-family: monospace;font-weight: bold;display: inline-block;line-height: 1.2em;}#sk-container-id-3 div.sk-label-container {text-align: center;}#sk-container-id-3 div.sk-container {/* jupyter's `normalize.less` sets `[hidden] { display: none; }` but bootstrap.min.css set `[hidden] { display: none !important; }` so we also need the `!important` here to be able to override the default hidden behavior on the sphinx rendered scikit-learn.org. See: https://github.com/scikit-learn/scikit-learn/issues/21755 */display: inline-block !important;position: relative;}#sk-container-id-3 div.sk-text-repr-fallback {display: none;}</style><div id=\"sk-container-id-3\" class=\"sk-top-container\"><div class=\"sk-text-repr-fallback\"><pre>RandomForestRegressor(max_depth=45, max_features=&#x27;sqrt&#x27;, min_samples_split=5,\n",
              "                      n_estimators=200)</pre><b>In a Jupyter environment, please rerun this cell to show the HTML representation or trust the notebook. <br />On GitHub, the HTML representation is unable to render, please try loading this page with nbviewer.org.</b></div><div class=\"sk-container\" hidden><div class=\"sk-item\"><div class=\"sk-estimator sk-toggleable\"><input class=\"sk-toggleable__control sk-hidden--visually\" id=\"sk-estimator-id-11\" type=\"checkbox\" checked><label for=\"sk-estimator-id-11\" class=\"sk-toggleable__label sk-toggleable__label-arrow\">RandomForestRegressor</label><div class=\"sk-toggleable__content\"><pre>RandomForestRegressor(max_depth=45, max_features=&#x27;sqrt&#x27;, min_samples_split=5,\n",
              "                      n_estimators=200)</pre></div></div></div></div></div>"
            ]
          },
          "metadata": {},
          "execution_count": 55
        }
      ]
    },
    {
      "cell_type": "code",
      "source": [
        "random_best_train= rf_random.best_estimator_.predict(X_train_rf)\n",
        "random_best_test= rf_random.best_estimator_.predict(X_test_rf)\n",
        "errors_test = abs(random_best_test - y_test_rf)\n",
        "errors_train = abs(random_best_train - y_train_rf)\n",
        "# Calculate mean absolute percentage error (MAPE)\n",
        "mape_test = np.mean(100 * (errors_test / y_test_rf))\n",
        "mape_train = np.mean(100 * (errors_train / y_train_rf))\n",
        "# Calculate and display accuracy\n",
        "accuracy_test = 100 - mape_test \n",
        "accuracy_train = 100 - mape_train\n",
        "#print result\n",
        "print('The best model from the randomized search has an accuracy of train model', round(accuracy_train, 2),'%')\n",
        "print('The best model from the randomized search has an accuracy of test model', round(accuracy_test, 2),'%')"
      ],
      "metadata": {
        "colab": {
          "base_uri": "https://localhost:8080/"
        },
        "id": "LJhX4-XPRvFJ",
        "outputId": "73b39d2c-770b-403a-83f0-c9b4f7ca0b8f"
      },
      "execution_count": 56,
      "outputs": [
        {
          "output_type": "stream",
          "name": "stdout",
          "text": [
            "The best model from the randomized search has an accuracy of train model 93.81 %\n",
            "The best model from the randomized search has an accuracy of test model 89.26 %\n"
          ]
        }
      ]
    },
    {
      "cell_type": "code",
      "source": [
        "#this is the RMSE of train data\n",
        "final_mse_train = mean_squared_error(y_train_rf, random_best_train)\n",
        "final_rmse_train = np.sqrt(final_mse_train)\n",
        "print('The best model from the randomized search has a RMSE of', round(final_rmse_train, 2))"
      ],
      "metadata": {
        "colab": {
          "base_uri": "https://localhost:8080/"
        },
        "id": "HMEhYMImRylX",
        "outputId": "ec39c9f3-a116-4b69-f7c2-7e78bf335f69"
      },
      "execution_count": 57,
      "outputs": [
        {
          "output_type": "stream",
          "name": "stdout",
          "text": [
            "The best model from the randomized search has a RMSE of 2369.77\n"
          ]
        }
      ]
    },
    {
      "cell_type": "code",
      "source": [
        "#this is the RMSE of test data\n",
        "final_mse_test = mean_squared_error(y_test_rf, random_best_test)\n",
        "final_rmse_test = np.sqrt(final_mse_test)\n",
        "print('The best model from the randomized search has a RMSE of', round(final_rmse_test, 2))"
      ],
      "metadata": {
        "colab": {
          "base_uri": "https://localhost:8080/"
        },
        "id": "l1CY0Jx0R14v",
        "outputId": "6d25aec9-a71d-4c17-9e13-a5c832b8de23"
      },
      "execution_count": 58,
      "outputs": [
        {
          "output_type": "stream",
          "name": "stdout",
          "text": [
            "The best model from the randomized search has a RMSE of 4105.62\n"
          ]
        }
      ]
    },
    {
      "cell_type": "markdown",
      "source": [
        "####All these models are overfitting for training data so we try gradient boosting model"
      ],
      "metadata": {
        "id": "evnne4YAR-s2"
      }
    },
    {
      "cell_type": "markdown",
      "source": [
        "##Gradient Boost Model"
      ],
      "metadata": {
        "id": "Y2usDxQvSGnW"
      }
    },
    {
      "cell_type": "code",
      "source": [
        "gbr_params = {'n_estimators': 1000,\n",
        "          'max_depth': 3,\n",
        "          'learning_rate': 0.1,\n",
        "          'loss': 'ls'}\n",
        "\n",
        "pipe_gb = Pipeline(steps=[\n",
        "    ('preprocessor', preprocessor),\n",
        "    ('classifier',   GradientBoostingRegressor(**gbr_params))\n",
        "])"
      ],
      "metadata": {
        "id": "8IllfuJySXyT"
      },
      "execution_count": 60,
      "outputs": []
    },
    {
      "cell_type": "code",
      "source": [
        "model_gb = pipe_gb.fit(X_train, y_train)"
      ],
      "metadata": {
        "colab": {
          "base_uri": "https://localhost:8080/",
          "height": 346
        },
        "id": "VUcYaKY7Sat0",
        "outputId": "acbb57b8-471c-4fec-f35e-b620361d5b6f"
      },
      "execution_count": 61,
      "outputs": [
        {
          "output_type": "error",
          "ename": "InvalidParameterError",
          "evalue": "ignored",
          "traceback": [
            "\u001b[0;31m---------------------------------------------------------------------------\u001b[0m",
            "\u001b[0;31mInvalidParameterError\u001b[0m                     Traceback (most recent call last)",
            "\u001b[0;32m<ipython-input-61-cda08b41399a>\u001b[0m in \u001b[0;36m<cell line: 1>\u001b[0;34m()\u001b[0m\n\u001b[0;32m----> 1\u001b[0;31m \u001b[0mmodel_gb\u001b[0m \u001b[0;34m=\u001b[0m \u001b[0mpipe_gb\u001b[0m\u001b[0;34m.\u001b[0m\u001b[0mfit\u001b[0m\u001b[0;34m(\u001b[0m\u001b[0mX_train\u001b[0m\u001b[0;34m,\u001b[0m \u001b[0my_train\u001b[0m\u001b[0;34m)\u001b[0m\u001b[0;34m\u001b[0m\u001b[0;34m\u001b[0m\u001b[0m\n\u001b[0m",
            "\u001b[0;32m/usr/local/lib/python3.10/dist-packages/sklearn/pipeline.py\u001b[0m in \u001b[0;36mfit\u001b[0;34m(self, X, y, **fit_params)\u001b[0m\n\u001b[1;32m    403\u001b[0m             \u001b[0;32mif\u001b[0m \u001b[0mself\u001b[0m\u001b[0;34m.\u001b[0m\u001b[0m_final_estimator\u001b[0m \u001b[0;34m!=\u001b[0m \u001b[0;34m\"passthrough\"\u001b[0m\u001b[0;34m:\u001b[0m\u001b[0;34m\u001b[0m\u001b[0;34m\u001b[0m\u001b[0m\n\u001b[1;32m    404\u001b[0m                 \u001b[0mfit_params_last_step\u001b[0m \u001b[0;34m=\u001b[0m \u001b[0mfit_params_steps\u001b[0m\u001b[0;34m[\u001b[0m\u001b[0mself\u001b[0m\u001b[0;34m.\u001b[0m\u001b[0msteps\u001b[0m\u001b[0;34m[\u001b[0m\u001b[0;34m-\u001b[0m\u001b[0;36m1\u001b[0m\u001b[0;34m]\u001b[0m\u001b[0;34m[\u001b[0m\u001b[0;36m0\u001b[0m\u001b[0;34m]\u001b[0m\u001b[0;34m]\u001b[0m\u001b[0;34m\u001b[0m\u001b[0;34m\u001b[0m\u001b[0m\n\u001b[0;32m--> 405\u001b[0;31m                 \u001b[0mself\u001b[0m\u001b[0;34m.\u001b[0m\u001b[0m_final_estimator\u001b[0m\u001b[0;34m.\u001b[0m\u001b[0mfit\u001b[0m\u001b[0;34m(\u001b[0m\u001b[0mXt\u001b[0m\u001b[0;34m,\u001b[0m \u001b[0my\u001b[0m\u001b[0;34m,\u001b[0m \u001b[0;34m**\u001b[0m\u001b[0mfit_params_last_step\u001b[0m\u001b[0;34m)\u001b[0m\u001b[0;34m\u001b[0m\u001b[0;34m\u001b[0m\u001b[0m\n\u001b[0m\u001b[1;32m    406\u001b[0m \u001b[0;34m\u001b[0m\u001b[0m\n\u001b[1;32m    407\u001b[0m         \u001b[0;32mreturn\u001b[0m \u001b[0mself\u001b[0m\u001b[0;34m\u001b[0m\u001b[0;34m\u001b[0m\u001b[0m\n",
            "\u001b[0;32m/usr/local/lib/python3.10/dist-packages/sklearn/ensemble/_gb.py\u001b[0m in \u001b[0;36mfit\u001b[0;34m(self, X, y, sample_weight, monitor)\u001b[0m\n\u001b[1;32m    418\u001b[0m             \u001b[0mFitted\u001b[0m \u001b[0mestimator\u001b[0m\u001b[0;34m.\u001b[0m\u001b[0;34m\u001b[0m\u001b[0;34m\u001b[0m\u001b[0m\n\u001b[1;32m    419\u001b[0m         \"\"\"\n\u001b[0;32m--> 420\u001b[0;31m         \u001b[0mself\u001b[0m\u001b[0;34m.\u001b[0m\u001b[0m_validate_params\u001b[0m\u001b[0;34m(\u001b[0m\u001b[0;34m)\u001b[0m\u001b[0;34m\u001b[0m\u001b[0;34m\u001b[0m\u001b[0m\n\u001b[0m\u001b[1;32m    421\u001b[0m \u001b[0;34m\u001b[0m\u001b[0m\n\u001b[1;32m    422\u001b[0m         \u001b[0;32mif\u001b[0m \u001b[0;32mnot\u001b[0m \u001b[0mself\u001b[0m\u001b[0;34m.\u001b[0m\u001b[0mwarm_start\u001b[0m\u001b[0;34m:\u001b[0m\u001b[0;34m\u001b[0m\u001b[0;34m\u001b[0m\u001b[0m\n",
            "\u001b[0;32m/usr/local/lib/python3.10/dist-packages/sklearn/base.py\u001b[0m in \u001b[0;36m_validate_params\u001b[0;34m(self)\u001b[0m\n\u001b[1;32m    598\u001b[0m         \u001b[0maccepted\u001b[0m \u001b[0mconstraints\u001b[0m\u001b[0;34m.\u001b[0m\u001b[0;34m\u001b[0m\u001b[0;34m\u001b[0m\u001b[0m\n\u001b[1;32m    599\u001b[0m         \"\"\"\n\u001b[0;32m--> 600\u001b[0;31m         validate_parameter_constraints(\n\u001b[0m\u001b[1;32m    601\u001b[0m             \u001b[0mself\u001b[0m\u001b[0;34m.\u001b[0m\u001b[0m_parameter_constraints\u001b[0m\u001b[0;34m,\u001b[0m\u001b[0;34m\u001b[0m\u001b[0;34m\u001b[0m\u001b[0m\n\u001b[1;32m    602\u001b[0m             \u001b[0mself\u001b[0m\u001b[0;34m.\u001b[0m\u001b[0mget_params\u001b[0m\u001b[0;34m(\u001b[0m\u001b[0mdeep\u001b[0m\u001b[0;34m=\u001b[0m\u001b[0;32mFalse\u001b[0m\u001b[0;34m)\u001b[0m\u001b[0;34m,\u001b[0m\u001b[0;34m\u001b[0m\u001b[0;34m\u001b[0m\u001b[0m\n",
            "\u001b[0;32m/usr/local/lib/python3.10/dist-packages/sklearn/utils/_param_validation.py\u001b[0m in \u001b[0;36mvalidate_parameter_constraints\u001b[0;34m(parameter_constraints, params, caller_name)\u001b[0m\n\u001b[1;32m     95\u001b[0m                 )\n\u001b[1;32m     96\u001b[0m \u001b[0;34m\u001b[0m\u001b[0m\n\u001b[0;32m---> 97\u001b[0;31m             raise InvalidParameterError(\n\u001b[0m\u001b[1;32m     98\u001b[0m                 \u001b[0;34mf\"The {param_name!r} parameter of {caller_name} must be\"\u001b[0m\u001b[0;34m\u001b[0m\u001b[0;34m\u001b[0m\u001b[0m\n\u001b[1;32m     99\u001b[0m                 \u001b[0;34mf\" {constraints_str}. Got {param_val!r} instead.\"\u001b[0m\u001b[0;34m\u001b[0m\u001b[0;34m\u001b[0m\u001b[0m\n",
            "\u001b[0;31mInvalidParameterError\u001b[0m: The 'loss' parameter of GradientBoostingRegressor must be a str among {'quantile', 'absolute_error', 'huber', 'squared_error'}. Got 'ls' instead."
          ]
        }
      ]
    },
    {
      "cell_type": "code",
      "source": [
        "\n",
        "\n",
        "\n",
        "\n",
        "y_pred_gb_train = model_gb.predict(X_train)\n",
        "y_pred_gb_test = model_gb.predict(X_test)\n",
        "\n",
        "\n",
        "print('Training set score: ' + str(model_gb.score(X_train, y_train)))\n",
        "print('Test set score: ' + str(model_gb.score(X_test, y_test)))"
      ],
      "metadata": {
        "id": "kh_3OTLKR3_5"
      },
      "execution_count": null,
      "outputs": []
    },
    {
      "cell_type": "markdown",
      "source": [
        "##XG BOOST MODEL"
      ],
      "metadata": {
        "id": "JgIHKe7JTBbG"
      }
    },
    {
      "cell_type": "code",
      "source": [
        "from xgboost import XGBRegressor\n",
        "model_xg = XGBRegressor()"
      ],
      "metadata": {
        "id": "-cekR0FNTCie"
      },
      "execution_count": 62,
      "outputs": []
    },
    {
      "cell_type": "code",
      "source": [
        "params_xg_test = {'n_estimators': 1000,\n",
        "          'max_depth': 6,\n",
        "          'learning_rate': 0.1\n",
        "}"
      ],
      "metadata": {
        "id": "pyt-T-irTFh2"
      },
      "execution_count": 63,
      "outputs": []
    },
    {
      "cell_type": "code",
      "source": [
        "pipe_xg = Pipeline(steps=[\n",
        "    ('preprocessor', preprocessor),\n",
        "    ('regressor',   XGBRegressor(**params_xg_test))\n",
        "])"
      ],
      "metadata": {
        "id": "FIIIrkzxTIAc"
      },
      "execution_count": 64,
      "outputs": []
    },
    {
      "cell_type": "code",
      "source": [
        "model_xg = pipe_xg.fit(X_train, y_train)\n",
        "\n",
        "y_pred_xg_train = model_xg.predict(X_train)\n",
        "y_pred_xg_test = model_xg.predict(X_test)\n",
        "\n",
        "\n",
        "print('Training set score: ' + str(model_xg.score(X_train, y_train)))\n",
        "print('Test set score: ' + str(model_xg.score(X_test, y_test)))"
      ],
      "metadata": {
        "colab": {
          "base_uri": "https://localhost:8080/"
        },
        "id": "AGfLxQA3TKev",
        "outputId": "46c74179-a428-4a6c-9f03-8ee3f93b0dad"
      },
      "execution_count": 65,
      "outputs": [
        {
          "output_type": "stream",
          "name": "stdout",
          "text": [
            "Training set score: 0.9668446833052375\n",
            "Test set score: 0.9237286942707681\n"
          ]
        }
      ]
    },
    {
      "cell_type": "code",
      "source": [
        "rmse_xg_train = np.sqrt(mean_squared_error(np.exp(y_train),np.exp(y_pred_xg_train)))\n",
        "print(f'Root Mean Square Error XG-GSC-Train: {rmse_xg_train}')"
      ],
      "metadata": {
        "colab": {
          "base_uri": "https://localhost:8080/"
        },
        "id": "7-LJ1e7rTRJF",
        "outputId": "a7c6522d-e12f-42bf-e0c4-91da86e3bbe5"
      },
      "execution_count": 66,
      "outputs": [
        {
          "output_type": "stream",
          "name": "stdout",
          "text": [
            "Root Mean Square Error XG-GSC-Train: 2674.247320407938\n"
          ]
        }
      ]
    },
    {
      "cell_type": "code",
      "source": [
        "rmse_xg_test = np.sqrt(mean_squared_error(np.exp(y_test),np.exp(y_pred_xg_test)))\n",
        "print(f'Root Mean Square Error XG-GSC-Test: {rmse_xg_test}')"
      ],
      "metadata": {
        "colab": {
          "base_uri": "https://localhost:8080/"
        },
        "id": "i-9i6e_1TTzJ",
        "outputId": "18a1c95d-882e-4db2-8c4a-0b473fab3b2d"
      },
      "execution_count": 67,
      "outputs": [
        {
          "output_type": "stream",
          "name": "stdout",
          "text": [
            "Root Mean Square Error XG-GSC-Test: 3861.928557773688\n"
          ]
        }
      ]
    },
    {
      "cell_type": "markdown",
      "source": [
        "##This model is performing better when compared to all the others so we proceed with this."
      ],
      "metadata": {
        "id": "0gvs8b_sTYi_"
      }
    },
    {
      "cell_type": "markdown",
      "source": [
        "##Testing"
      ],
      "metadata": {
        "id": "mj8HrwY7Tb07"
      }
    },
    {
      "cell_type": "code",
      "source": [
        "X_test.columns"
      ],
      "metadata": {
        "colab": {
          "base_uri": "https://localhost:8080/"
        },
        "id": "HEUBwsCLTZyu",
        "outputId": "df4f5f81-389a-4014-aa31-e7cf16813212"
      },
      "execution_count": 68,
      "outputs": [
        {
          "output_type": "execute_result",
          "data": {
            "text/plain": [
              "Index(['brand', 'model', 'mileage', 'drive_type', 'fuel_type', 'accidents',\n",
              "       'owners', 'car_age'],\n",
              "      dtype='object')"
            ]
          },
          "metadata": {},
          "execution_count": 68
        }
      ]
    },
    {
      "cell_type": "code",
      "source": [
        "predicted_price = pipe_xg.predict(pd.DataFrame(columns=X_test.columns,data=np.array(['Ford','F-150',129900,'4WD',\n",
        "                                                                'Gas',0,1,3]).reshape(1,8)))"
      ],
      "metadata": {
        "id": "0H5KTQ_uTfCA"
      },
      "execution_count": 71,
      "outputs": []
    },
    {
      "cell_type": "code",
      "source": [
        "predicted_price"
      ],
      "metadata": {
        "colab": {
          "base_uri": "https://localhost:8080/"
        },
        "id": "6iC1X5RPUN65",
        "outputId": "b57b8b80-0446-4199-d5e2-ed7dfeeb0a2d"
      },
      "execution_count": 72,
      "outputs": [
        {
          "output_type": "execute_result",
          "data": {
            "text/plain": [
              "array([10.286813], dtype=float32)"
            ]
          },
          "metadata": {},
          "execution_count": 72
        }
      ]
    },
    {
      "cell_type": "code",
      "source": [
        "print(f'The predicted car value for the test data taken: ${np.exp(predicted_price).astype(int)}')"
      ],
      "metadata": {
        "colab": {
          "base_uri": "https://localhost:8080/"
        },
        "id": "6StjIApRURH2",
        "outputId": "4c70c614-137a-4deb-b7ea-3d86b3bf1490"
      },
      "execution_count": 73,
      "outputs": [
        {
          "output_type": "stream",
          "name": "stdout",
          "text": [
            "The predicted car value for the test data taken: $[29343]\n"
          ]
        }
      ]
    },
    {
      "cell_type": "code",
      "source": [
        "!pip install pickle-mixin"
      ],
      "metadata": {
        "colab": {
          "base_uri": "https://localhost:8080/"
        },
        "id": "QcXT1GpmUUKD",
        "outputId": "9857b838-47f2-4596-ae75-6090f42ea404"
      },
      "execution_count": 74,
      "outputs": [
        {
          "output_type": "stream",
          "name": "stdout",
          "text": [
            "Looking in indexes: https://pypi.org/simple, https://us-python.pkg.dev/colab-wheels/public/simple/\n",
            "Collecting pickle-mixin\n",
            "  Downloading pickle-mixin-1.0.2.tar.gz (5.1 kB)\n",
            "  Preparing metadata (setup.py) ... \u001b[?25l\u001b[?25hdone\n",
            "Building wheels for collected packages: pickle-mixin\n",
            "  Building wheel for pickle-mixin (setup.py) ... \u001b[?25l\u001b[?25hdone\n",
            "  Created wheel for pickle-mixin: filename=pickle_mixin-1.0.2-py3-none-any.whl size=6006 sha256=9da917fceeb539683a38b4ecfad90a3ad9d774dfcdb1b09539f49df45ef47172\n",
            "  Stored in directory: /root/.cache/pip/wheels/3e/c6/e9/d1b0a34e1efc6c3ec9c086623972c6de6317faddb2af0a619c\n",
            "Successfully built pickle-mixin\n",
            "Installing collected packages: pickle-mixin\n",
            "Successfully installed pickle-mixin-1.0.2\n"
          ]
        }
      ]
    },
    {
      "cell_type": "code",
      "source": [
        "import pickle"
      ],
      "metadata": {
        "id": "DMiqQR5yUdYK"
      },
      "execution_count": 75,
      "outputs": []
    },
    {
      "cell_type": "code",
      "source": [
        "pickle.dump(pipe,open('Final Regression Model.pkl','wb'))"
      ],
      "metadata": {
        "id": "KJ9rRAwiUf55"
      },
      "execution_count": 76,
      "outputs": []
    },
    {
      "cell_type": "code",
      "source": [
        "pickle.dump(df,open('df.pkl','wb'))"
      ],
      "metadata": {
        "id": "WoO82H8eUkcz"
      },
      "execution_count": 77,
      "outputs": []
    },
    {
      "cell_type": "code",
      "source": [],
      "metadata": {
        "id": "3hCgVC60Ulmx"
      },
      "execution_count": null,
      "outputs": []
    },
    {
      "cell_type": "code",
      "source": [],
      "metadata": {
        "id": "8oZKZFzYUlkF"
      },
      "execution_count": null,
      "outputs": []
    }
  ]
}