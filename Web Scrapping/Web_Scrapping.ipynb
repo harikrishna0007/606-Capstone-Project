{
  "nbformat": 4,
  "nbformat_minor": 0,
  "metadata": {
    "colab": {
      "provenance": [],
      "authorship_tag": "ABX9TyPoXXDj4cLHnQ8DGbJO/f95",
      "include_colab_link": true
    },
    "kernelspec": {
      "name": "python3",
      "display_name": "Python 3"
    },
    "language_info": {
      "name": "python"
    }
  },
  "cells": [
    {
      "cell_type": "markdown",
      "metadata": {
        "id": "view-in-github",
        "colab_type": "text"
      },
      "source": [
        "<a href=\"https://colab.research.google.com/github/harikrishna0007/606-Capstone-Project/blob/main/Web%20Scrapping/Web_Scrapping.ipynb\" target=\"_parent\"><img src=\"https://colab.research.google.com/assets/colab-badge.svg\" alt=\"Open In Colab\"/></a>"
      ]
    },
    {
      "cell_type": "code",
      "source": [
        "pip install beautifulsoup4"
      ],
      "metadata": {
        "colab": {
          "base_uri": "https://localhost:8080/"
        },
        "id": "qVTK99DL1E4C",
        "outputId": "ce439c80-f012-4110-ede6-3a6017cf3b87"
      },
      "execution_count": null,
      "outputs": [
        {
          "output_type": "stream",
          "name": "stdout",
          "text": [
            "Looking in indexes: https://pypi.org/simple, https://us-python.pkg.dev/colab-wheels/public/simple/\n",
            "Requirement already satisfied: beautifulsoup4 in /usr/local/lib/python3.8/dist-packages (4.6.3)\n"
          ]
        }
      ]
    },
    {
      "cell_type": "code",
      "source": [
        "pip install python3-bs4"
      ],
      "metadata": {
        "id": "gUSZxDvT1Hxq",
        "outputId": "cf9c463a-f180-4f39-eb2f-09a02f54da6d",
        "colab": {
          "base_uri": "https://localhost:8080/"
        }
      },
      "execution_count": 46,
      "outputs": [
        {
          "output_type": "stream",
          "name": "stdout",
          "text": [
            "Looking in indexes: https://pypi.org/simple, https://us-python.pkg.dev/colab-wheels/public/simple/\n",
            "\u001b[31mERROR: Could not find a version that satisfies the requirement python3-bs4 (from versions: none)\u001b[0m\u001b[31m\n",
            "\u001b[0m\u001b[31mERROR: No matching distribution found for python3-bs4\u001b[0m\u001b[31m\n",
            "\u001b[0m"
          ]
        }
      ]
    },
    {
      "cell_type": "code",
      "execution_count": 47,
      "metadata": {
        "id": "buYrZbf2446F"
      },
      "outputs": [],
      "source": [
        "from bs4 import BeautifulSoup\n",
        "import requests\n",
        "import pandas as pd\n",
        "import lxml.html as lxl\n",
        "import numpy as np"
      ]
    },
    {
      "cell_type": "code",
      "source": [
        "%%time\n",
        "make=[]\n",
        "model=[]\n",
        "trim=[]\n",
        "year = []\n",
        "mileage = []\n",
        "location = []\n",
        "transmission=[]\n",
        "drive_type=[]\n",
        "price = []\n",
        "exterior_color=[]\n",
        "interior_color=[]\n",
        "vehicle_history=[]\n",
        "MPG_city=[]\n",
        "MPG_highway=[]\n",
        "VIN=[]\n",
        "accidents =[]\n",
        "owners=[]\n",
        "car_usage_type=[]\n",
        "fuel_type=[]\n",
        "\n",
        "\n",
        "filename = 'Used Cars Prices_TRUECAR'\n",
        "\n",
        "for i in range (1,3):\n",
        "    \n",
        "    \n",
        "    base_url = 'https://www.truecar.com/used-cars-for-sale/listings/'\n",
        "    \n",
        "    url = base_url + '?page=' + str(i)\n",
        "    \n",
        "    \n",
        "    req = requests.get(url)\n",
        "\n",
        "    soup = BeautifulSoup(req.text,'html.parser')\n",
        "\n",
        "    output_details=soup.find_all('div', {'class': 'card-content order-3 vehicle-card-body'})\n",
        "    #print(output_details)\n",
        "    \n",
        "    \n",
        "    for output in output_details:\n",
        "    \n",
        " \n",
        "        current_car = output.find('span',{'class':\"truncate\"}).get_text()\n",
        "        #print(current_car)\n",
        "  \n",
        "        try:\n",
        "            make.append(current_car.split(' ')[0])\n",
        "        except:\n",
        "            make.append('n/a')\n",
        "    \n",
        "        try:\n",
        "            model.append(current_car.split(' ')[1:])\n",
        "        except:\n",
        "            model.append('n/a')\n",
        "    \n",
        "        try:\n",
        "            trim.append(output.find('div',{'data-test':\"vehicleCardTrim\"}).get_text())\n",
        "        \n",
        "        except:\n",
        "            trim.append('n/a')\n",
        "    \n",
        "        try:\n",
        "            year.append(output.find('span',{'class':\"vehicle-card-year text-xs\"}).get_text())\n",
        "        except:\n",
        "            year.append('n/a')\n",
        "        \n",
        "          \n",
        "        \n",
        "\n",
        "        try:\n",
        "            cur_mlg=output.find('div',{'data-test':\"vehicleMileage\"}).get_text()\n",
        "            mileage.append(cur_mlg.split(' ')[0])\n",
        "        except:\n",
        "            mileage.append('n/a')\n",
        "    \n",
        "        \n",
        "        try:\n",
        "            location.append(output.find('div',{'data-test':\"vehicleCardLocation\"}).get_text())\n",
        "        except:\n",
        "            location.append('n/a')    \n",
        "        \n",
        "    \n",
        "\n",
        "        try:\n",
        "            pr=output.find('div',{'data-test':\"vehicleListingPriceAmount\"}).get_text()\n",
        "            price.append(pr.split('$')[1])\n",
        "        except:\n",
        "            price.append('n/a')\n",
        "        \n",
        "       \n",
        "        clr=output.find('div',{'data-test':\"vehicleCardColors\"}).get_text()\n",
        "        \n",
        "\n",
        "        \n",
        "        try:\n",
        "            exterior_color.append(clr.split(',')[0].split(' ')[0])\n",
        "        except:\n",
        "            exterior_color.append('n/a')\n",
        "    \n",
        "        try:\n",
        "            interior_color.append(clr.split(',')[1].split(' ')[0])\n",
        "        except:\n",
        "            interior_color.append('n/a')\n",
        "\n",
        "        vhkl_hist=output.find('div',{'data-test':\"vehicleCardCondition\"}).get_text()\n",
        "        \n",
        "        \n",
        "        try:\n",
        "            acc=vhkl_hist.split(',')[0].split(' ')[0]\n",
        "            if acc == 'No':\n",
        "                accidents.append('0')\n",
        "            else:\n",
        "                accidents.append(acc)\n",
        "        except:\n",
        "            accidents.append('n/a')\n",
        "        \n",
        "        try:\n",
        "            owners.append(vhkl_hist.split(',')[1].split(' ')[1])\n",
        "        except:\n",
        "            owners.append('n/a')\n",
        "        \n",
        "        try:\n",
        "            car_usage_type.append(vhkl_hist.split(',')[2])\n",
        "        except:\n",
        "            car_usage_type.append('n/a')\n",
        "            \n",
        "        try:\n",
        "            VIN.append((output.find('div',{'class':\"vehicle-card-vin-carousel-challenger mt-1 text-xs\"}).get_text()).split('VIN')[1])\n",
        "        except:\n",
        "            VIN.append('n/a')\n",
        "\n"
      ],
      "metadata": {
        "colab": {
          "base_uri": "https://localhost:8080/"
        },
        "id": "cXgTxJua5JpW",
        "outputId": "69296c09-7533-4696-82b0-af9ef6d607b3"
      },
      "execution_count": 48,
      "outputs": [
        {
          "output_type": "stream",
          "name": "stdout",
          "text": [
            "CPU times: user 1.32 s, sys: 25.3 ms, total: 1.34 s\n",
            "Wall time: 5.52 s\n"
          ]
        }
      ]
    },
    {
      "cell_type": "code",
      "source": [
        "Used_Cars = pd.DataFrame({'VIN':VIN,'brand': make, 'model': model, 'trim' : trim, 'manufacture_year': year,\n",
        "                          'mileage':mileage,\n",
        "                          'exterior_color' : exterior_color, 'interior_color' : interior_color,'accidents':accidents,\n",
        "                          'owners':owners,'car_usage_type':car_usage_type, 'location':location,'price': price})"
      ],
      "metadata": {
        "id": "kBUCvP4n327r"
      },
      "execution_count": 49,
      "outputs": []
    },
    {
      "cell_type": "code",
      "source": [
        "print(Used_Cars)"
      ],
      "metadata": {
        "colab": {
          "base_uri": "https://localhost:8080/"
        },
        "id": "G5tQIQj57hRo",
        "outputId": "58b75e79-b93b-4dda-9c49-5003f85a3392"
      },
      "execution_count": 50,
      "outputs": [
        {
          "output_type": "stream",
          "name": "stdout",
          "text": [
            "                  VIN    brand                 model  \\\n",
            "0   5XXG14J27MG045735      Kia                  [K5]   \n",
            "1   KNDJ23AU6L7722229      Kia                [Soul]   \n",
            "2   1FTFW1E87NFB14191     Ford               [F-150]   \n",
            "3   JTDEPMAEXMJ185161   Toyota             [Corolla]   \n",
            "4   1N4AL3AP6FN384750   Nissan              [Altima]   \n",
            "..                ...      ...                   ...   \n",
            "58  5NPD84LFXLH625093  Hyundai             [Elantra]   \n",
            "59  5YFEPMAEXMP254412   Toyota             [Corolla]   \n",
            "60  1FT7W2B66MEC68263     Ford  [Super, Duty, F-250]   \n",
            "61  1FTEW1E47KFB70099     Ford               [F-150]   \n",
            "62  5YFEPMAE9MP243112   Toyota             [Corolla]   \n",
            "\n",
            "                               trim manufacture_year  mileage exterior_color  \\\n",
            "0                           LXS FWD             2021   40,609            Red   \n",
            "1                            LX IVT             2020   27,637           Gray   \n",
            "2   Platinum SuperCrew 5.5' Box 4WD             2022    7,600         Silver   \n",
            "3                            LE CVT             2021  100,345          Black   \n",
            "4                             2.5 S             2015  126,442         Silver   \n",
            "..                              ...              ...      ...            ...   \n",
            "58                     SEL 2.0L IVT             2020   59,802          White   \n",
            "59                           LE CVT             2021   23,887         Silver   \n",
            "60       XLT Crew Cab 6.75' Box 4WD             2021   57,423          White   \n",
            "61       XLT SuperCrew 5.5' Box 4WD             2019   66,543         Silver   \n",
            "62                           LE CVT             2021   30,533          White   \n",
            "\n",
            "   interior_color accidents owners car_usage_type  \\\n",
            "0                         0      1      Fleet use   \n",
            "1                         0      1   Personal use   \n",
            "2                         0      1   Personal use   \n",
            "3                         0      1   Personal use   \n",
            "4                         0      3      Fleet use   \n",
            "..            ...       ...    ...            ...   \n",
            "58                        0      1   Personal use   \n",
            "59                        0      2   Personal use   \n",
            "60                        0      1   Personal use   \n",
            "61                        1      1   Personal use   \n",
            "62                        0      1   Personal use   \n",
            "\n",
            "                             location   price  \n",
            "0                        Avondale, AZ  22,900  \n",
            "1   Online RetailerDelivery Available  18,999  \n",
            "2                          Austin, TX  72,474  \n",
            "3                  Pembroke Pines, FL  13,595  \n",
            "4                     Gainesville, FL   8,441  \n",
            "..                                ...     ...  \n",
            "58                   Cockeysville, MD  16,588  \n",
            "59                     Fort Myers, FL  19,395  \n",
            "60                         Durham, NC  43,992  \n",
            "61                         Murray, UT  31,900  \n",
            "62                      San Diego, CA  20,499  \n",
            "\n",
            "[63 rows x 13 columns]\n"
          ]
        }
      ]
    },
    {
      "cell_type": "code",
      "source": [
        "Used_Cars.to_csv(\"{}.csv\".format(filename))\n",
        "df = pd.read_csv('Used Cars Prices_TRUECAR.csv', index_col=0)"
      ],
      "metadata": {
        "id": "plrK96RR5Rrt"
      },
      "execution_count": 51,
      "outputs": []
    }
  ]
}