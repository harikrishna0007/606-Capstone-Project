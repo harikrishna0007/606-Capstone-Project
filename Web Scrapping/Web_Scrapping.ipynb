{
  "nbformat": 4,
  "nbformat_minor": 0,
  "metadata": {
    "colab": {
      "provenance": [],
      "authorship_tag": "ABX9TyOcJQaC1woC+KqwdA/3g6Me",
      "include_colab_link": true
    },
    "kernelspec": {
      "name": "python3",
      "display_name": "Python 3"
    },
    "language_info": {
      "name": "python"
    }
  },
  "cells": [
    {
      "cell_type": "markdown",
      "metadata": {
        "id": "view-in-github",
        "colab_type": "text"
      },
      "source": [
        "<a href=\"https://colab.research.google.com/github/harikrishna0007/606-Capstone-Project/blob/main/Web%20Scrapping/Web_Scrapping.ipynb\" target=\"_parent\"><img src=\"https://colab.research.google.com/assets/colab-badge.svg\" alt=\"Open In Colab\"/></a>"
      ]
    },
    {
      "cell_type": "code",
      "source": [
        "pip install beautifulsoup4"
      ],
      "metadata": {
        "colab": {
          "base_uri": "https://localhost:8080/"
        },
        "id": "qVTK99DL1E4C",
        "outputId": "3f254c6d-4c66-4faa-ffb2-9ef0fdbdd9a2"
      },
      "execution_count": 1,
      "outputs": [
        {
          "output_type": "stream",
          "name": "stdout",
          "text": [
            "Looking in indexes: https://pypi.org/simple, https://us-python.pkg.dev/colab-wheels/public/simple/\n",
            "Requirement already satisfied: beautifulsoup4 in /usr/local/lib/python3.9/dist-packages (4.11.2)\n",
            "Requirement already satisfied: soupsieve>1.2 in /usr/local/lib/python3.9/dist-packages (from beautifulsoup4) (2.4)\n"
          ]
        }
      ]
    },
    {
      "cell_type": "code",
      "source": [
        "pip install python3-bs4"
      ],
      "metadata": {
        "id": "gUSZxDvT1Hxq",
        "outputId": "64c9fa3e-3b92-417b-8bc1-0459ceb9eeb4",
        "colab": {
          "base_uri": "https://localhost:8080/"
        }
      },
      "execution_count": 2,
      "outputs": [
        {
          "output_type": "stream",
          "name": "stdout",
          "text": [
            "Looking in indexes: https://pypi.org/simple, https://us-python.pkg.dev/colab-wheels/public/simple/\n",
            "\u001b[31mERROR: Could not find a version that satisfies the requirement python3-bs4 (from versions: none)\u001b[0m\u001b[31m\n",
            "\u001b[0m\u001b[31mERROR: No matching distribution found for python3-bs4\u001b[0m\u001b[31m\n",
            "\u001b[0m"
          ]
        }
      ]
    },
    {
      "cell_type": "code",
      "execution_count": 3,
      "metadata": {
        "id": "buYrZbf2446F"
      },
      "outputs": [],
      "source": [
        "from bs4 import BeautifulSoup\n",
        "import requests\n",
        "import pandas as pd\n",
        "import lxml.html as lxl\n",
        "import numpy as np"
      ]
    },
    {
      "cell_type": "code",
      "source": [
        "%%time\n",
        "make=[]\n",
        "model=[]\n",
        "trim=[]\n",
        "year = []\n",
        "mileage = []\n",
        "location = []\n",
        "transmission=[]\n",
        "drive_type=[]\n",
        "price = []\n",
        "exterior_color=[]\n",
        "interior_color=[]\n",
        "vehicle_history=[]\n",
        "MPG_city=[]\n",
        "MPG_highway=[]\n",
        "VIN=[]\n",
        "accidents =[]\n",
        "owners=[]\n",
        "car_usage_type=[]\n",
        "fuel_type=[]\n",
        "\n",
        "\n",
        "filename = 'original_data'\n",
        "\n",
        "for i in range (1,3):\n",
        "    \n",
        "    \n",
        "    base_url = 'https://www.truecar.com/used-cars-for-sale/listings/'\n",
        "    \n",
        "    url = base_url + '?page=' + str(i)\n",
        "    \n",
        "    \n",
        "    req = requests.get(url)\n",
        "\n",
        "    soup = BeautifulSoup(req.text,'html.parser')\n",
        "\n",
        "    output_details=soup.find_all('div', {'class': 'card-content order-3 vehicle-card-body'})\n",
        "    #print(output_details)\n",
        "    \n",
        "    \n",
        "    for output in output_details:\n",
        "    \n",
        " \n",
        "        current_car = output.find('span',{'class':\"truncate\"}).get_text()\n",
        "        #print(current_car)\n",
        "  \n",
        "        try:\n",
        "            make.append(current_car.split(' ')[0])\n",
        "        except:\n",
        "            make.append('n/a')\n",
        "    \n",
        "        try:\n",
        "            model.append(current_car.split(' ')[1:])\n",
        "        except:\n",
        "            model.append('n/a')\n",
        "    \n",
        "        try:\n",
        "            trim.append(output.find('div',{'data-test':\"vehicleCardTrim\"}).get_text())\n",
        "        \n",
        "        except:\n",
        "            trim.append('n/a')\n",
        "    \n",
        "        try:\n",
        "            year.append(output.find('span',{'class':\"vehicle-card-year text-xs\"}).get_text())\n",
        "        except:\n",
        "            year.append('n/a')\n",
        "        \n",
        "          \n",
        "        \n",
        "\n",
        "        try:\n",
        "            cur_mlg=output.find('div',{'data-test':\"vehicleMileage\"}).get_text()\n",
        "            mileage.append(cur_mlg.split(' ')[0])\n",
        "        except:\n",
        "            mileage.append('n/a')\n",
        "    \n",
        "        \n",
        "        try:\n",
        "            location.append(output.find('div',{'data-test':\"vehicleCardLocation\"}).get_text())\n",
        "        except:\n",
        "            location.append('n/a')    \n",
        "        \n",
        "    \n",
        "\n",
        "        try:\n",
        "            pr=output.find('div',{'data-test':\"vehicleListingPriceAmount\"}).get_text()\n",
        "            price.append(pr.split('$')[1])\n",
        "        except:\n",
        "            price.append('n/a')\n",
        "        \n",
        "       \n",
        "        clr=output.find('div',{'data-test':\"vehicleCardColors\"}).get_text()\n",
        "        \n",
        "\n",
        "        \n",
        "        try:\n",
        "            exterior_color.append(clr.split(',')[0].split(' ')[0])\n",
        "        except:\n",
        "            exterior_color.append('n/a')\n",
        "    \n",
        "        try:\n",
        "            interior_color.append(clr.split(',')[1].split(' ')[0])\n",
        "        except:\n",
        "            interior_color.append('n/a')\n",
        "\n",
        "        vhkl_hist=output.find('div',{'data-test':\"vehicleCardCondition\"}).get_text()\n",
        "        \n",
        "        \n",
        "        try:\n",
        "            acc=vhkl_hist.split(',')[0].split(' ')[0]\n",
        "            if acc == 'No':\n",
        "                accidents.append('0')\n",
        "            else:\n",
        "                accidents.append(acc)\n",
        "        except:\n",
        "            accidents.append('n/a')\n",
        "        \n",
        "        try:\n",
        "            owners.append(vhkl_hist.split(',')[1].split(' ')[1])\n",
        "        except:\n",
        "            owners.append('n/a')\n",
        "        \n",
        "        try:\n",
        "            car_usage_type.append(vhkl_hist.split(',')[2])\n",
        "        except:\n",
        "            car_usage_type.append('n/a')\n",
        "            \n",
        "        try:\n",
        "            VIN.append((output.find('div',{'class':\"vehicle-card-vin-carousel-challenger mt-1 text-xs\"}).get_text()).split('VIN')[1])\n",
        "        except:\n",
        "            VIN.append('n/a')\n",
        "\n"
      ],
      "metadata": {
        "colab": {
          "base_uri": "https://localhost:8080/"
        },
        "id": "cXgTxJua5JpW",
        "outputId": "3e794605-a83c-407c-8287-afb779b3cbd7"
      },
      "execution_count": 14,
      "outputs": [
        {
          "output_type": "stream",
          "name": "stdout",
          "text": [
            "CPU times: user 577 ms, sys: 12.4 ms, total: 590 ms\n",
            "Wall time: 3.67 s\n"
          ]
        }
      ]
    },
    {
      "cell_type": "code",
      "source": [
        "Used_Cars = pd.DataFrame({'VIN':VIN,'brand': make, 'model': model, 'trim' : trim, 'manufacture_year': year,\n",
        "                          'mileage':mileage,\n",
        "                          'exterior_color' : exterior_color, 'interior_color' : interior_color,'accidents':accidents,\n",
        "                          'owners':owners,'car_usage_type':car_usage_type, 'location':location,'price': price})"
      ],
      "metadata": {
        "id": "kBUCvP4n327r"
      },
      "execution_count": 15,
      "outputs": []
    },
    {
      "cell_type": "code",
      "source": [
        "print(Used_Cars)"
      ],
      "metadata": {
        "colab": {
          "base_uri": "https://localhost:8080/"
        },
        "id": "G5tQIQj57hRo",
        "outputId": "f75c1801-ae0e-49ad-9630-9a23484554a8"
      },
      "execution_count": 16,
      "outputs": [
        {
          "output_type": "stream",
          "name": "stdout",
          "text": [
            "                  VIN      brand                 model  \\\n",
            "0   19XFC2F84ME002809      Honda               [Civic]   \n",
            "1   1FM5K8DH1HGA84925       Ford            [Explorer]   \n",
            "2   JF2GPAGC6E8285880     Subaru       [XV, Crosstrek]   \n",
            "3   2T1BURHE1KC155022     Toyota             [Corolla]   \n",
            "4   1FT7W2B64KEF41553       Ford  [Super, Duty, F-250]   \n",
            "..                ...        ...                   ...   \n",
            "58  2GNAXUEV9K6153053  Chevrolet             [Equinox]   \n",
            "59  1FTEW1E51LFB01547       Ford               [F-150]   \n",
            "60  1FTEW1EG3JKE17697       Ford               [F-150]   \n",
            "61  1FTEW1EG4LFB39808       Ford               [F-150]   \n",
            "62  1FTFW1E51MKE59938       Ford               [F-150]   \n",
            "\n",
            "                              trim manufacture_year  mileage exterior_color  \\\n",
            "0                  Sport Sedan CVT             2021   38,542           Blue   \n",
            "1                          XLT 4WD             2017   80,551          Black   \n",
            "2           2.0i Limited Automatic             2014   64,749           Gray   \n",
            "3                           LE CVT             2019  187,561          White   \n",
            "4    Lariat 4WD Crew Cab 6.75' Box             2019   82,723          White   \n",
            "..                             ...              ...      ...            ...   \n",
            "58                 LT with 1LT AWD             2019   36,179          White   \n",
            "59   Lariat SuperCrew 5.5' Box 4WD             2020   21,041          White   \n",
            "60      XLT SuperCrew 5.5' Box 4WD             2018  116,233          White   \n",
            "61  Limited SuperCrew 5.5' Box 4WD             2020   67,819          White   \n",
            "62      XLT SuperCrew 5.5' Box 4WD             2021   10,244          White   \n",
            "\n",
            "   interior_color accidents owners car_usage_type            location   price  \n",
            "0                         0      1   Personal use           Tracy, CA  22,898  \n",
            "1                         0      2   Personal use  Fairless Hills, PA  22,570  \n",
            "2                         3      1   Personal use        Hazelton, PA  17,999  \n",
            "3                         1      1   Personal use           Macon, GA  11,000  \n",
            "4                         0      3   Personal use    Rock Springs, WY  42,750  \n",
            "..            ...       ...    ...            ...                 ...     ...  \n",
            "58                        0      1   Personal use      Walnutport, PA  18,900  \n",
            "59                        1      1   Personal use    Collinsville, IL  47,995  \n",
            "60                        2      3   Personal use     Cedar Falls, IA  22,500  \n",
            "61                        0      1   Personal use    Martinsville, IN  53,988  \n",
            "62                        0      1   Personal use            Ivel, KY  45,000  \n",
            "\n",
            "[63 rows x 13 columns]\n"
          ]
        }
      ]
    },
    {
      "cell_type": "code",
      "source": [
        "Used_Cars.to_csv(\"{}.csv\".format(filename))\n",
        "df = pd.read_csv('original_data.csv', index_col=0)"
      ],
      "metadata": {
        "id": "plrK96RR5Rrt"
      },
      "execution_count": 17,
      "outputs": []
    }
  ]
}